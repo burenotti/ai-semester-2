{
 "cells": [
  {
   "cell_type": "code",
   "execution_count": 13,
   "metadata": {
    "pycharm": {
     "is_executing": true
    }
   },
   "outputs": [],
   "source": [
    "import numpy as np\n",
    "import pandas as pd\n",
    "import matplotlib.pyplot as plt\n",
    "import seaborn as sns\n",
    "\n",
    "sns.set_theme()"
   ]
  },
  {
   "cell_type": "markdown",
   "metadata": {},
   "source": [
    "## Теоретический материал - Нейронные сети\n",
    "\n",
    "Обучение персептрона\n",
    "Персептрон представляет собой элементарную часть нейронной сети.\n",
    "Одиночный персептрон является линейным бинарным классификатором. В\n",
    "этой лекции мы рассмотрим процедуру обучения персептрона для\n",
    "классификации данных. Поскольку персептрон представляет собой\n",
    "бинарный классификатор, то мы будем рассматривать лишь два класса.\n",
    "\n",
    "Пусть мы рассматриваем некоторое множество (конечное или\n",
    "бесконечное) $ n $-мерных векторов, которые будем обозначать $ x =\n",
    "(x_1, x_2, \\cdots , x_n ) $\n",
    "\n",
    "Будем считать, что это множество разбивается на два класса, которые\n",
    "мы будем обозначать $ +1 $ и $ -1 $. Поэтому возникает задача построения\n",
    "функции, которая задана на нашем множестве векторов, и принимает\n",
    "значения в множестве $ \\{+1, −1\\} $. В качестве такой функции может выступать\n",
    "персептрон. С алгебраической точки зрения персептрон состоит из вектора\n",
    "весов $ w = (w_0, w_1, w_2, \\cdots , w_n ) $.\n",
    "\n",
    "При этом персептрон работает по формуле\n",
    "$ y = sign(w_0 + x_{1}w_{1} + x_{2}w_{2} + \\cdots + x_{n}w_{n}) $,\n",
    "где функция $ sign(t) $ равна $ +1 $, если $ t >= 0 $, и равна $ −1 $, если $ t < 0 $.\n",
    "\n",
    "Приведем алгоритм обучения персептрона. Пусть у нас есть набор\n",
    "обучающих данных $ \\{(x, d)\\} $, где $ x $ - это различные вектора, а $ d $ из множества $ \\{+1, −1\\} $ указывает к какому классу относится наш вектор.\n",
    "\n",
    "1. Положим вектор весов $ w $ равным нулю.\n",
    "2. Повторять $ N $ раз следующие шаги:\n",
    "3. Для каждого тестового набора $ (x, d) $:\n",
    "4. Вычислить $ y = sign[(x, w)] $.\n",
    "5. Если $ yd < 0 $, то скорректировать веса $ w0 = w0 + ad, wi =\n",
    "wi + adxi, i = 1,2, . . . , n $.\n",
    "\n",
    "Описанный алгоритм довольно легко программировать.\n",
    "\n",
    "\n",
    "### 1.1.1 Пример\n",
    "#### Задача:\n",
    "\n",
    "Рассмотрим программу обучения персептрона на языке Python. Сначала\n",
    "рассмотрим основной класс персептрона, который умеет учиться по\n",
    "тестовым данным.\n",
    "\n",
    "#### Решение:\n",
    "\n",
    "Начнем с описания объектов класса:"
   ]
  },
  {
   "cell_type": "code",
   "execution_count": 16,
   "metadata": {},
   "outputs": [],
   "source": [
    "# класс, который реализует персептрон и его обучение\n",
    "class Perceptron:\n",
    "    def __init__(self, N):\n",
    "        # создать нулевые веса\n",
    "        self.w = list()\n",
    "        for i in range(N):\n",
    "            self.w.append(0)\n",
    "\n",
    "    # метод для вычисления значения перселтрона\n",
    "    def calc(self, x):\n",
    "        res = 0\n",
    "        for i in range(len(self.w)):\n",
    "            res = res + self.w[i] * x[i]\n",
    "        return res\n",
    "\n",
    "    # пороговая функция активации персептрона\n",
    "    def sign(self, x):\n",
    "        if self.calc(x) > 0:\n",
    "            return 1 \n",
    "        else:\n",
    "            return -1\n",
    "    \n",
    "    # обучение на одном примере\n",
    "    def learn(self, la, x, y):\n",
    "        # обучаем только, когда результат неверный\n",
    "        if y * self.calc(x) <= 0:\n",
    "            for i in range(len(self.w)):\n",
    "                self.w[i] = self.w[i] + la * y * x[i]\n",
    "    \n",
    "    # обучение по всем данным Т - кортеж примеров\n",
    "    def learning(self, la, T):\n",
    "        # цикл обучения\n",
    "        for n in range(100):\n",
    "            # обучение по Всем набору примеров\n",
    "            for t in T:\n",
    "                self.learn(la, t[0], t[1])"
   ]
  },
  {
   "cell_type": "markdown",
   "metadata": {},
   "source": [
    "В строке 25 мы осуществляем корректировку весов. Посмотрим, как учится\n",
    "и работает наш персептрон."
   ]
  },
  {
   "cell_type": "code",
   "execution_count": 17,
   "metadata": {},
   "outputs": [
    {
     "name": "stdout",
     "output_type": "stream",
     "text": [
      "[0.1, -0.1]\n",
      "-1\n",
      "1\n",
      "1\n",
      "-1\n"
     ]
    }
   ],
   "source": [
    "# создаем класс двумерного персептрона\n",
    "perceptron = Perceptron(2)\n",
    "la = 0.1 # константа обучения\n",
    "# создаем примеры\n",
    "T = list()\n",
    "T.append([[2,1], 1])\n",
    "T.append([[3,2], 1])\n",
    "T.append([[4,1], 1])\n",
    "T.append([[1,2], -1])\n",
    "T.append([[2,3], -1])\n",
    "T.append([[5,7], -1])\n",
    "perceptron.learning(la, T) # обучение персептрона\n",
    "print(perceptron.w) # печатаем веса\n",
    "# проверим работу на тестовых примерах\n",
    "print(perceptron.sign([1.5, 2]))\n",
    "print(perceptron.sign([3, 1.5]))\n",
    "print(perceptron.sign([5,1]))\n",
    "print(perceptron.sign([5,10]))"
   ]
  },
  {
   "cell_type": "markdown",
   "metadata": {},
   "source": [
    "Видим, что что наш персептрон отлично научился распознавать образы,\n",
    "относя к классу 1 те вектора, у которых первая компонента больше второй,\n",
    "и к классу -1 в противном случае. Хотя устройство персептронов довольно\n",
    "простое эти конструкции могут решать и практические задачи. Кроме того,\n",
    "из таких персептронов состоят нейронные сети."
   ]
  },
  {
   "cell_type": "markdown",
   "metadata": {},
   "source": [
    "### Теоретический материал - Реализация нейронной сети на Python\n",
    "\n",
    "Нейронная сеть — это функциональная единица машинного или\n",
    "глубокого обучения. Она имитирует поведение человеческого мозга,\n",
    "поскольку основана на концепции биологических нейронных сетей.\n",
    "\n",
    "Наиболее распространенный тип нейронной сети, называемый\n",
    "многослойным персептроном (MLP), представляет собой функцию, которая\n",
    "отображает входные данные в выходные данные. MLP имеет один входной\n",
    "слой и один выходной слой. Между ними может быть один или несколько\n",
    "скрытых слоев. Входной слой имеет тот же набор нейронов, что и признаки.\n",
    "Скрытые слои также могут иметь более одного нейрона. Каждый нейрон\n",
    "представляет собой линейную функцию, к которой применяется функция\n",
    "активации для решения сложных задач. Выход каждого слоя подается в\n",
    "качестве входных данных для всех нейронов следующих слоев.\n",
    "\n",
    "Нейронные сети способны решать множество задач. В основном они\n",
    "состоят из таких компонентов:\n",
    "- входной слой (получение и передача данных);\n",
    "- скрытый слой (вычисление);\n",
    "- выходной слой. Чтобы реализовать нейросеть, необходимо\n",
    "понимать, как ведут себя нейроны. Нейрон одновременно\n",
    "принимает несколько входов, обрабатывает эти данные и выдает\n",
    "один выход. Нейронная сеть представляет собой блоки ввода и\n",
    "вывода, где каждое соединение имеет соответствующие веса (это\n",
    "сила связи нейронов; чем вес больше, тем один нейрон сильнее\n",
    "влияет на другой). Данные всех входов умножаются на веса:\n",
    "- $ x \\rightarrow x \\cdotp w_1 $;\n",
    "- $ y \\rightarrow y \\cdotp w_2 $.\n",
    "Входы после взвешивания суммируются с прибавлением значения\n",
    "порога «$ c $»:\n",
    "$$ \n",
    "xw_1 + yw_2 + c\n",
    "$$\n",
    "Полученное значение пропускается через функцию активации\n",
    "(сигмоиду), которая преобразует входы в один выход:\n",
    "$$\n",
    "z = f(xw_1 + yw_2 + c)\n",
    "$$\n",
    "\n",
    "Так выглядит сигмоида:\n",
    "\n",
    "<img src=\"./imgs/sigmoid.png\" width=\"400px\">\n",
    "\n",
    "Интервал результатов сигмоиды — от $ 0 $ до $ 1 $. Отрицательные числа\n",
    "стремятся к нулю, а положительные — к единице.\n",
    "Например. Пусть нейрон имеет следующие значения: $ w = [0,1] c = 4 $.\n",
    "Входной слой: $ x = 2 $, $ y = 3 $.\n",
    "\n",
    "$$\n",
    "xw_1 + yw_2 + c = 20 + 31 + 4 = 7\n",
    "$$\n",
    "\n",
    "$$\n",
    "z = f(7) = 0.99\n",
    "$$\n",
    "\n",
    "### 1.1.2 Пример\n",
    "#### Задача:\n",
    "Для написания кода нейрона будем использовать библиотеку **Pytnon**\n",
    "— **NumPy**:\n",
    "#### Решение:"
   ]
  },
  {
   "cell_type": "code",
   "execution_count": 20,
   "metadata": {},
   "outputs": [
    {
     "name": "stdout",
     "output_type": "stream",
     "text": [
      "0.9990889488055994\n"
     ]
    }
   ],
   "source": [
    "import numpy as np \n",
    "def sigmoid(x):\n",
    "    # Функция активации: f(X) = 1 / (1 + e^ (-x))\n",
    "    return 1 / (1 + np.exp(-x))\n",
    "\n",
    "class Neuron:\n",
    "    def __init__(self, weights, bias):\n",
    "        self.weights = weights\n",
    "        self.bias = bias\n",
    "\n",
    "    def feedforward(self, inputs):\n",
    "        total = np.dot(self.weights, inputs) + self.bias\n",
    "        return sigmoid(total)\n",
    "\n",
    "weights = np.array([0, 1]) # w1 = 0, w2 = 1\n",
    "bias = 4                   # c = 4\n",
    "\n",
    "m = Neuron(weights, bias)\n",
    "x = np.array([2, 3])\n",
    "n = Neuron(weights, bias)\n",
    "x = np.array([2, 3]) # X = 2, y = 3\n",
    "print(n.feedforward(x)) # 0.9990889488055994"
   ]
  },
  {
   "cell_type": "markdown",
   "metadata": {},
   "source": [
    "Нейросеть состоит из множества соединенных между собой нейронов.\n",
    "Пример несложной нейронной сети:\n",
    "\n",
    "<img src=\"./imgs/neuro-network.png\" width=\"400px\">\n",
    "\n",
    "где:\n",
    "$ x_1, x_2 $ - входной слой;\n",
    "$ h_1, h_2 $ - скрытый слой с двумя нейронами;\n",
    "$ o_1 $ - выходной слой.\n",
    "\n",
    "Например. Представим, что нейроны из графика выше имеют веса\n",
    "$ [0, 1] $. Пороговое значение ($ b $) у обоих нейронов равно $ 0 $ и они имеют\n",
    "идентичную сигмоиду.\n",
    "При входных данных $ x = [2, 3] $ получим:\n",
    "\n",
    "$$\n",
    "h_1 = h_2 = f(wx + b) = f(2 + (1 \\cdotp 3) + 0) = f(3) = 0.95\n",
    "$$\n",
    "\n",
    "$$\n",
    "o_1 = f(w \\cdotp [h_1, h_2] + b) = f((0\\cdotp h_1) + (1\\cdotp h_2) + 0) = f(0.95) = 0.72\n",
    "$$\n",
    "Входные данные по нейронам передаются до тех пор, пока не\n",
    "получатся выходные значения.\n"
   ]
  },
  {
   "cell_type": "code",
   "execution_count": 21,
   "metadata": {},
   "outputs": [
    {
     "name": "stdout",
     "output_type": "stream",
     "text": [
      "0.7216325609518421\n"
     ]
    }
   ],
   "source": [
    "import numpy as np\n",
    "class OurNeuralNetwork: \n",
    "    def __init__(self):\n",
    "        weights = np.array([0, 1])\n",
    "        bias = 0\n",
    "        self.h1 = Neuron(weights, bias)\n",
    "        self.h2 = Neuron(weights, bias)\n",
    "        self.o1 = Neuron(weights, bias)\n",
    "\n",
    "    def feedforward (self, x):\n",
    "        out_h1 = self.h1.feedforward(x)\n",
    "        out_h2 = self.h2.feedforward(x)\n",
    "        # Входы для о1 - эт выходы hi и h2\n",
    "        out_o1 = self.o1.feedforward(np.array([out_h1, out_h2]))\n",
    "        return out_o1\n",
    "\n",
    "network = OurNeuralNetwork()\n",
    "x = np.array([2, 3])\n",
    "print(network.feedforward (x)) # 0.7216325609518421"
   ]
  },
  {
   "cell_type": "markdown",
   "metadata": {},
   "source": [
    "### Теоретический материал – Обучение нейронной сети\n",
    "\n",
    "Обучение нейросети — это подбор весов, которые соответствуют всем\n",
    "входам для решения поставленных задач.\n",
    "\n",
    "Класс нейронной сети:"
   ]
  },
  {
   "cell_type": "code",
   "execution_count": 22,
   "metadata": {},
   "outputs": [],
   "source": [
    "class NeuralNetwork:\n",
    "    def __init__(self, x, y) -> None:\n",
    "        self.input = x\n",
    "        self.weights1 = np.random.rand(self.input.shape[1], 4)\n",
    "        self.weights2 = np.random.rand(4, 1)\n",
    "        self.y = y\n",
    "        self.output = np.zeros(y.shape)"
   ]
  },
  {
   "cell_type": "markdown",
   "metadata": {},
   "source": [
    "Каждый этап процесса обучения состоит из:\n",
    "- прямого распространения (прогнозируемый выход);\n",
    "- обратного распространения (обновление весов и смещений).\n",
    "Например:\n",
    "Дана двуслойная нейросеть:\n",
    "\n",
    "$$\n",
    "\\hat{y} = \\sigma(w_2\\sigma(w_1x + b_1) + b_2) \n",
    "$$\n",
    "\n",
    "В данном случае на выход ŷ влияют только две переменные — 𝑤 (веса) и 𝑏\n",
    "(смещение). Настройку весов и смещений из данных входа или процесс\n",
    "обучения нейросети можно изобразить так:\n",
    "\n",
    "<img src=\"imgs/pipeline.png\">\n",
    "\n",
    "#### Прямое распространение.\n",
    "Как видно, формула прямого распространения представляет собой\n",
    "несложное вычисление:\n",
    "\n",
    "$$\n",
    "\\hat{y} = \\sigma(w_2\\sigma(w_1x + b_1) + b_2) \n",
    "$$\n",
    "\n",
    "Далее необходимо добавить в код функцию прямого распространения.\n",
    "Предположим, что смещения в этом случае будут равны 0."
   ]
  },
  {
   "cell_type": "code",
   "execution_count": 23,
   "metadata": {},
   "outputs": [],
   "source": [
    "class NeuralNetwork:\n",
    "    def __init__(self, x, y) -> None:\n",
    "        self.input = x\n",
    "        self.weights1 = np.random.rand(self.input.shape[1], 4)\n",
    "        self.weights2 = np.random.rand(4, 1)\n",
    "        self.y = y\n",
    "        self.output = np.zeros(y.shape)\n",
    "    \n",
    "    def feedforward(self):\n",
    "        self.layer1 = sigmoid(np.dot(self.input, self.weights1))\n",
    "        self.ouptut = sigmoid(np.dot(self.layer1, self.weights2))\n",
    "    "
   ]
  },
  {
   "cell_type": "markdown",
   "metadata": {},
   "source": [
    "Чтобы вычислить ошибку прогноза, необходимо использовать функцию\n",
    "потери. В примере уместно воспользоваться формулой суммы квадратов\n",
    "ошибок — средним значением между прогнозируемым и фактическим\n",
    "результатами:\n",
    "\n",
    "$$\n",
    "Error = \\sum^{n}_{i=1}{(y - \\hat{y})}^2\n",
    "$$\n",
    "\n",
    "<hr/>\n",
    "\n",
    "#### Обратное распространение\n",
    "\n",
    "Обратное распространение позволяет измерить производные в\n",
    "обратном порядке — от конца к началу, и скорректировать веса и смещения.\n",
    "Для этого необходимо узнать производную функции потери — тангенс угла\n",
    "наклона.\n",
    "\n",
    "<img src=\"imgs/gradient.jpg\">\n",
    "\n",
    "Производная функции по отношению к весам и смещениям позволяет\n",
    "узнать градиентный спуск. Производная функции потери не содержит весов\n",
    "и смещений, для ее вычисления необходимо добавить правило цепи:\n",
    "\n",
    "$$\n",
    "Loss(y,\\hat{y}) = \\sum^{n}_{i=1}{(y - \\hat{y})}^2\n",
    "$$\n",
    "\n",
    "$$\n",
    "\\frac{\\delta Loss(y, \\hat{y})}{\\delta W} =\n",
    "\\frac{\\delta Loss(y, \\hat{y})}{\\delta \\hat{y}}\n",
    "\\cdotp \\frac{\\delta \\hat{y}}{\\delta z} \\cdotp \\frac{\\delta z}{\\delta W} = \\\\\n",
    "= 2(y - \\hat{y}) \\cdotp \\sigma' \\cdotp x = \\\\\n",
    "= 2(y - \\hat{y}) \\cdotp z(1 - z) \\cdotp x\n",
    "$$\n",
    "где $ z = Wx + b $\n",
    "\n",
    "Благодаря этому правилу можно регулировать веса. Добавляем в код\n",
    "Python функцию обратного распространения:\n"
   ]
  },
  {
   "cell_type": "code",
   "execution_count": 1,
   "metadata": {},
   "outputs": [],
   "source": [
    "def dsigma(x):\n",
    "    return sigmoid(x) * (1 - sigmoid(x)) \n",
    "\n",
    "class NeuralNetwork:\n",
    "    def __init__(self, x, y) -> None:\n",
    "        self.input = x\n",
    "        self.weights1 = np.random.rand(self.input.shape[1], 4)\n",
    "        self.weights2 = np.random.rand(4, 1)\n",
    "        self.y = y\n",
    "        self.output = np.zeros(y.shape)\n",
    "    \n",
    "    def feedforward(self):\n",
    "        self.layer1 = sigmoid(np.dot(self.input, self.weights1))\n",
    "        self.ouptut = sigmoid(np.dot(self.layer1, self.weights2))\n",
    "    \n",
    "    def backprop(self):\n",
    "        tmp = 2*(self.y - self.output) * dsigma(self.output)\n",
    "\n",
    "        d_weights2 = np.dot(self.layer1.T, tmp)\n",
    "        d_weights1 = np.dot(self.input.T, np.dot(tmp, self.weights2.T) * dsigma(self.layer1))\n",
    "        \n",
    "        self.weights1 += d_weights1\n",
    "        self.weights2 += d_weights2"
   ]
  },
  {
   "cell_type": "markdown",
   "metadata": {},
   "source": [
    "Нейронные сети базируются на определенных алгоритмах и\n",
    "математических функциях. Сначала может казаться, что разобраться в них\n",
    "довольно сложно. Но существуют готовые библиотеки машинного обучения\n",
    "для построения и тренировки нейросетей, позволяющие не углубляться в их\n",
    "устройство.\n",
    "\n",
    "#### Задание:\n",
    "\n",
    "Реализовать классы нейросетей по аналогии с классом `OurNeuralNetwork`.\n",
    "\n",
    "Данные нейросети:\n",
    "\n",
    "- три входа $ (x_1, x_2, x_3) $;\n",
    "- три нейрона в скрытых слоях $ (h_1, h_2, h_3) $;\n",
    "- выход $ (o_1) $.\n",
    "\n",
    "Нейроны имеют идентичные веса и пороги:\n",
    "\n",
    "- $ w = [0.5, 0.5, 0.5] $\n",
    "- $ b = 0 $\n",
    "\n",
    "Данные нейросети:\n",
    "\n",
    "- два входа ($ x_1, x_2 $);\n",
    "- два нейрона в скрытых слоях ($ h_1, h_2 $);\n",
    "- два выхода ($ o_1, o_2 $).\n",
    "\n",
    "Нейроны имеют идентичные веса и пороги:\n",
    "\n",
    "- $ w = [1, 0] $;\n",
    "- $ b = 1 $.\n",
    "\n",
    "#### Решение:\n"
   ]
  },
  {
   "cell_type": "code",
   "execution_count": 2,
   "metadata": {},
   "outputs": [],
   "source": [
    "def dsigma(x):\n",
    "    return sigmoid(x) * (1 - sigmoid(x)) \n",
    "\n",
    "class NeuralNetwork:\n",
    "    def __init__(self, x, y) -> None:\n",
    "        self.input = x\n",
    "        self.weights1 = np.random.rand(self.input.shape[1], 4)\n",
    "        self.weights2 = np.random.rand(4, 1)\n",
    "        self.y = y\n",
    "        self.output = np.zeros(y.shape)\n",
    "    \n",
    "    def feedforward(self):\n",
    "        self.layer1 = sigmoid(np.dot(self.input, self.weights1))\n",
    "        self.ouptut = sigmoid(np.dot(self.layer1, self.weights2))\n",
    "    \n",
    "    def backprop(self):\n",
    "        tmp = 2*(self.y - self.output) * dsigma(self.output)\n",
    "\n",
    "        d_weights2 = np.dot(self.layer1.T, tmp)\n",
    "        d_weights1 = np.dot(self.input.T, np.dot(tmp, self.weights2.T) * dsigma(self.layer1))\n",
    "        \n",
    "        self.weights1 += d_weights1\n",
    "        self.weights2 += d_weights2"
   ]
  },
  {
   "cell_type": "code",
   "execution_count": 3,
   "metadata": {},
   "outputs": [
    {
     "ename": "NameError",
     "evalue": "name 'np' is not defined",
     "output_type": "error",
     "traceback": [
      "\u001b[0;31m---------------------------------------------------------------------------\u001b[0m",
      "\u001b[0;31mNameError\u001b[0m                                 Traceback (most recent call last)",
      "Cell \u001b[0;32mIn[3], line 1\u001b[0m\n\u001b[0;32m----> 1\u001b[0m \u001b[43mnp\u001b[49m\u001b[38;5;241m.\u001b[39marray([\n\u001b[1;32m      2\u001b[0m     [\u001b[38;5;241m0\u001b[39m, \u001b[38;5;241m0\u001b[39m, \u001b[38;5;241m0\u001b[39m], [\u001b[38;5;241m0\u001b[39m]\n\u001b[1;32m      3\u001b[0m ])\n\u001b[1;32m      5\u001b[0m nn \u001b[38;5;241m=\u001b[39m MyNeuralNetwork()\n",
      "\u001b[0;31mNameError\u001b[0m: name 'np' is not defined"
     ]
    }
   ],
   "source": [
    "np.array([\n",
    "    [0, 0, 0], [0]\n",
    "])\n",
    "\n",
    "nn = MyNeuralNetwork()"
   ]
  },
  {
   "cell_type": "markdown",
   "metadata": {},
   "source": [
    "#### Задание:\n",
    "Реализуйте классы нейронных сетей с использованием других функций\n",
    "активации.         "
   ]
  },
  {
   "cell_type": "code",
   "execution_count": null,
   "metadata": {},
   "outputs": [],
   "source": []
  },
  {
   "cell_type": "markdown",
   "metadata": {},
   "source": [
    "### 1.2. Введение в нейронные сети с помощью Scikit-Learn в Python\n",
    "\n",
    "Теперь мы знаем, что такое нейронные сети и какие шаги необходимо\n",
    "выполнить, чтобы построить простую нейронную сеть с плотными связями.\n",
    "В этом разделе мы попытаемся построить простую нейронную сеть, которая\n",
    "предсказывает класс, к которому принадлежит данное растение ириса. Мы\n",
    "будем использовать библиотеку `Python Scikit-Learn` для создания нашей\n",
    "нейронной сети.\n",
    "\n",
    "`Sklearn` предоставляет 2 оценщика для задач классификации и\n",
    "регрессии соответственно:\n",
    "\n",
    "- MLPClassifier;\n",
    "- MLPRegressor\n",
    "\n",
    "Начнем с импорта необходимых библиотек.\n",
    "\n",
    "Теперь мы знаем, что такое нейронные сети и какие шаги необходимо\n",
    "выполнить, чтобы построить простую нейронную сеть с плотными связями.\n",
    "В этом разделе мы попытаемся построить простую нейронную сеть, которая\n",
    "предсказывает класс, к которому принадлежит данное растение ириса. Мы\n",
    "будем использовать библиотеку Python Scikit-Learn для создания нашей\n",
    "нейронной сети.\n",
    "Sklearn предоставляет 2 оценщика для задач классификации и\n",
    "регрессии соответственно:\n",
    "− MLPClassifier;\n",
    "− MLPRegressor\n",
    "Начнем с импорта необходимых библиотек.\n",
    "\n",
    "#### MLPClassifier\n",
    "\n",
    "Загрузка данных\n",
    "\n",
    "Мы будем загружать два набора данных.\n",
    "\n",
    "Набор данных цифр: мы будем использовать набор данных цифр,\n",
    "который имеет изображения размером 8x8 для цифр 0-9. Ниже мы будем\n",
    "использовать цифровые данные для задач классификации.\n",
    "\n",
    "Набор данных о жилье в Бостоне: мы будем использовать набор\n",
    "данных о жилье в Бостоне, который содержит информацию о различных\n",
    "свойствах дома, таких как среднее количество комнат, уровень преступности\n",
    "на душу населения в городе и т. д. Мы будем использовать его для задач\n",
    "регрессии.\n",
    "`Sklearn` предоставляет оба этих набора данных. Мы можем загрузить\n",
    "их, вызвав методы `load_digits()` и `load_boston()`."
   ]
  },
  {
   "cell_type": "code",
   "execution_count": 9,
   "metadata": {},
   "outputs": [
    {
     "name": "stdout",
     "output_type": "stream",
     "text": [
      "Dataset Sizes:  (1797, 64) (1797,)\n"
     ]
    }
   ],
   "source": [
    "from sklearn.datasets import load_digits\n",
    "\n",
    "digits = load_digits()\n",
    "X_digits, Y_digits = digits.data, digits.target\n",
    "print('Dataset Sizes: ', X_digits.shape, Y_digits.shape)\n"
   ]
  },
  {
   "cell_type": "code",
   "execution_count": 7,
   "metadata": {},
   "outputs": [
    {
     "name": "stdout",
     "output_type": "stream",
     "text": [
      "Dataset Sizes:  (506, 13) (506,)\n"
     ]
    }
   ],
   "source": [
    "import pandas as pd\n",
    "import numpy as np\n",
    "\n",
    "data_url = \"http://lib.stat.cmu.edu/datasets/boston\"\n",
    "raw_df = pd.read_csv(data_url, sep=\"\\s+\", skiprows=22, header=None)\n",
    "X_boston = np.hstack([raw_df.values[::2, :], raw_df.values[1::2, :2]])\n",
    "Y_boston = raw_df.values[1::2, 2]\n",
    "\n",
    "print('Dataset Sizes: ', X_boston.shape, Y_boston.shape)"
   ]
  },
  {
   "cell_type": "markdown",
   "metadata": {},
   "source": [
    "Классификация\n",
    "\n",
    "`MLPClassifier` — это класс, доступный как часть модуля `neuro_network`\n",
    "`sklearn` для выполнения задач классификации с использованием\n",
    "многослойного персептрона.\n",
    "\n",
    "Как обычно разделим набор данных на две части:\n",
    "- данные обучения, которые будут использоваться для модели обучения;\n",
    "- тестовые данные, по которым будет проверяться точность обученной модели.\n",
    "\n",
    "Функция `train_test_split` модуля model_selection sklearn поможет нам\n",
    "разделить данные на два набора: 80% для обучения и 20% для тестирования.\n",
    "\n",
    "Мы также используем `seed(random_state=123)` с `train_test_split`, чтобы мы\n",
    "всегда получали одно и то же разделение и могли сравнивать и\n",
    "воспроизволить результаты в будущем."
   ]
  },
  {
   "cell_type": "code",
   "execution_count": 10,
   "metadata": {},
   "outputs": [
    {
     "name": "stdout",
     "output_type": "stream",
     "text": [
      "Train/Test Sizes:  (1437, 64) (360, 64) (1437,) (360,)\n"
     ]
    }
   ],
   "source": [
    "from sklearn.model_selection import train_test_split\n",
    "\n",
    "X_train, X_test, Y_train, Y_test = train_test_split(\n",
    "    X_digits, Y_digits, \n",
    "    train_size=.8, test_size=.2, \n",
    "    stratify=Y_digits, random_state=123)\n",
    "\n",
    "print('Train/Test Sizes: ', X_train.shape, X_test.shape, Y_train.shape, Y_test.shape)\n"
   ]
  },
  {
   "cell_type": "markdown",
   "metadata": {},
   "source": [
    "Для начала натренируем модель `MLPClassifier` с параметрами по умолчанию\n",
    "для тренировочных данны"
   ]
  },
  {
   "cell_type": "code",
   "execution_count": 11,
   "metadata": {},
   "outputs": [
    {
     "data": {
      "text/html": [
       "<style>#sk-container-id-1 {color: black;background-color: white;}#sk-container-id-1 pre{padding: 0;}#sk-container-id-1 div.sk-toggleable {background-color: white;}#sk-container-id-1 label.sk-toggleable__label {cursor: pointer;display: block;width: 100%;margin-bottom: 0;padding: 0.3em;box-sizing: border-box;text-align: center;}#sk-container-id-1 label.sk-toggleable__label-arrow:before {content: \"▸\";float: left;margin-right: 0.25em;color: #696969;}#sk-container-id-1 label.sk-toggleable__label-arrow:hover:before {color: black;}#sk-container-id-1 div.sk-estimator:hover label.sk-toggleable__label-arrow:before {color: black;}#sk-container-id-1 div.sk-toggleable__content {max-height: 0;max-width: 0;overflow: hidden;text-align: left;background-color: #f0f8ff;}#sk-container-id-1 div.sk-toggleable__content pre {margin: 0.2em;color: black;border-radius: 0.25em;background-color: #f0f8ff;}#sk-container-id-1 input.sk-toggleable__control:checked~div.sk-toggleable__content {max-height: 200px;max-width: 100%;overflow: auto;}#sk-container-id-1 input.sk-toggleable__control:checked~label.sk-toggleable__label-arrow:before {content: \"▾\";}#sk-container-id-1 div.sk-estimator input.sk-toggleable__control:checked~label.sk-toggleable__label {background-color: #d4ebff;}#sk-container-id-1 div.sk-label input.sk-toggleable__control:checked~label.sk-toggleable__label {background-color: #d4ebff;}#sk-container-id-1 input.sk-hidden--visually {border: 0;clip: rect(1px 1px 1px 1px);clip: rect(1px, 1px, 1px, 1px);height: 1px;margin: -1px;overflow: hidden;padding: 0;position: absolute;width: 1px;}#sk-container-id-1 div.sk-estimator {font-family: monospace;background-color: #f0f8ff;border: 1px dotted black;border-radius: 0.25em;box-sizing: border-box;margin-bottom: 0.5em;}#sk-container-id-1 div.sk-estimator:hover {background-color: #d4ebff;}#sk-container-id-1 div.sk-parallel-item::after {content: \"\";width: 100%;border-bottom: 1px solid gray;flex-grow: 1;}#sk-container-id-1 div.sk-label:hover label.sk-toggleable__label {background-color: #d4ebff;}#sk-container-id-1 div.sk-serial::before {content: \"\";position: absolute;border-left: 1px solid gray;box-sizing: border-box;top: 0;bottom: 0;left: 50%;z-index: 0;}#sk-container-id-1 div.sk-serial {display: flex;flex-direction: column;align-items: center;background-color: white;padding-right: 0.2em;padding-left: 0.2em;position: relative;}#sk-container-id-1 div.sk-item {position: relative;z-index: 1;}#sk-container-id-1 div.sk-parallel {display: flex;align-items: stretch;justify-content: center;background-color: white;position: relative;}#sk-container-id-1 div.sk-item::before, #sk-container-id-1 div.sk-parallel-item::before {content: \"\";position: absolute;border-left: 1px solid gray;box-sizing: border-box;top: 0;bottom: 0;left: 50%;z-index: -1;}#sk-container-id-1 div.sk-parallel-item {display: flex;flex-direction: column;z-index: 1;position: relative;background-color: white;}#sk-container-id-1 div.sk-parallel-item:first-child::after {align-self: flex-end;width: 50%;}#sk-container-id-1 div.sk-parallel-item:last-child::after {align-self: flex-start;width: 50%;}#sk-container-id-1 div.sk-parallel-item:only-child::after {width: 0;}#sk-container-id-1 div.sk-dashed-wrapped {border: 1px dashed gray;margin: 0 0.4em 0.5em 0.4em;box-sizing: border-box;padding-bottom: 0.4em;background-color: white;}#sk-container-id-1 div.sk-label label {font-family: monospace;font-weight: bold;display: inline-block;line-height: 1.2em;}#sk-container-id-1 div.sk-label-container {text-align: center;}#sk-container-id-1 div.sk-container {/* jupyter's `normalize.less` sets `[hidden] { display: none; }` but bootstrap.min.css set `[hidden] { display: none !important; }` so we also need the `!important` here to be able to override the default hidden behavior on the sphinx rendered scikit-learn.org. See: https://github.com/scikit-learn/scikit-learn/issues/21755 */display: inline-block !important;position: relative;}#sk-container-id-1 div.sk-text-repr-fallback {display: none;}</style><div id=\"sk-container-id-1\" class=\"sk-top-container\"><div class=\"sk-text-repr-fallback\"><pre>MLPClassifier(random_state=123)</pre><b>In a Jupyter environment, please rerun this cell to show the HTML representation or trust the notebook. <br />On GitHub, the HTML representation is unable to render, please try loading this page with nbviewer.org.</b></div><div class=\"sk-container\" hidden><div class=\"sk-item\"><div class=\"sk-estimator sk-toggleable\"><input class=\"sk-toggleable__control sk-hidden--visually\" id=\"sk-estimator-id-1\" type=\"checkbox\" checked><label for=\"sk-estimator-id-1\" class=\"sk-toggleable__label sk-toggleable__label-arrow\">MLPClassifier</label><div class=\"sk-toggleable__content\"><pre>MLPClassifier(random_state=123)</pre></div></div></div></div></div>"
      ],
      "text/plain": [
       "MLPClassifier(random_state=123)"
      ]
     },
     "execution_count": 11,
     "metadata": {},
     "output_type": "execute_result"
    }
   ],
   "source": [
    "from sklearn.neural_network import MLPClassifier\n",
    "\n",
    "mlp_classifier = MLPClassifier(random_state=123)\n",
    "mlp_classifier.fit(X_train, Y_train)"
   ]
  },
  {
   "cell_type": "code",
   "execution_count": 12,
   "metadata": {},
   "outputs": [
    {
     "name": "stdout",
     "output_type": "stream",
     "text": [
      "[5 9 9 6 1 6 6 9 8 7 4 2 1 4 3]\n",
      "[5 9 9 6 1 6 6 9 8 7 4 2 1 4 3]\n",
      "Test Accuracy: 0.983\n",
      "Training Accuracy: 1.000\n"
     ]
    }
   ],
   "source": [
    "Y_preds = mlp_classifier.predict(X_test)\n",
    "\n",
    "print(Y_preds[:15])\n",
    "print(Y_test[:15])\n",
    "print(f'Test Accuracy: {mlp_classifier.score(X_test, Y_test):.3f}')\n",
    "print(f'Training Accuracy: {mlp_classifier.score(X_train, Y_train):.3f}')"
   ]
  },
  {
   "cell_type": "markdown",
   "metadata": {},
   "source": [
    "Cоздадим метод `plot_confusion_matrix()`, который принимает исходные и\n",
    "предсказанные метки данных по модели. Затем он строит матрицу путаницы,\n",
    "используя `matplotlib`."
   ]
  },
  {
   "cell_type": "code",
   "execution_count": 14,
   "metadata": {},
   "outputs": [],
   "source": [
    "from sklearn.metrics import confusion_matrix\n",
    "\n",
    "def plot_confusion_matrix(Y_test, Y_preds):\n",
    "    conf_mat = confusion_matrix(Y_test, Y_preds)\n",
    "    fig = plt.figure(figsize=(6,6))\n",
    "    plt.matshow(conf_mat, cmap=plt.cm.Blues, fignum=1)\n",
    "    plt.yticks(range(10), range(10))\n",
    "    plt.xticks(range(10), range(10))\n",
    "    plt.colorbar()\n",
    "    for i in range(10):\n",
    "        for j in range(10):\n",
    "            plt.text(i-0.2, j+0.1, str(conf_mat[j][i]), color='tab:red')\n"
   ]
  },
  {
   "cell_type": "code",
   "execution_count": 15,
   "metadata": {},
   "outputs": [
    {
     "data": {
      "image/png": "[encoded data removed]",
      "text/plain": [
       "<Figure size 600x600 with 2 Axes>"
      ]
     },
     "metadata": {},
     "output_type": "display_data"
    }
   ],
   "source": [
    "plot_confusion_matrix(Y_test, mlp_classifier.predict(X_test))"
   ]
  },
  {
   "cell_type": "markdown",
   "metadata": {},
   "source": [
    "Ниже приведен список важных атрибутов, доступных с `MLPClassifier`,\n",
    "которые могут предоставить значимую информацию после обучения\n",
    "модели.\n",
    "- `loss_` — возвращает убыток после завершения процесса обучения.\n",
    "- `coefs_` — возвращает массив длины `n_layers-1`, где каждый элемент\n",
    "представляет веса, связанные с уровнем `i`.\n",
    "- `intercepts_` — возвращает массив длины `n_layers-1`, где каждый\n",
    "элемент представляет собой перехват, связанный с персептронами\n",
    "слоя `i`.\n",
    "- `n_iter_` — количество итераций, для которых выполнялась оценка.\n",
    "− `out_activation_` — возвращает имя функции активации выходного\n",
    "слоя."
   ]
  },
  {
   "cell_type": "code",
   "execution_count": 16,
   "metadata": {},
   "outputs": [
    {
     "name": "stdout",
     "output_type": "stream",
     "text": [
      "Loss:  0.0034728684994180608\n",
      "Number of Coefs:  2\n",
      "Number of Intercepts:  2\n",
      "Nmber of Iterations for Which Estimator Ran:  125\n",
      "Name of Output Layer Activation Function:  softmax\n"
     ]
    }
   ],
   "source": [
    "print(\"Loss: \", mlp_classifier.loss_)\n",
    "print(\"Number of Coefs: \", len(mlp_classifier.coefs_))\n",
    "print(\"Number of Intercepts: \", len(mlp_classifier.intercepts_))\n",
    "print(\"Nmber of Iterations for Which Estimator Ran: \", mlp_classifier.n_iter_)\n",
    "print(\"Name of Output Layer Activation Function: \", mlp_classifier.out_activation_)\n"
   ]
  },
  {
   "cell_type": "markdown",
   "metadata": {},
   "source": [
    "#### MLPRegressor\n",
    "\n",
    "`MLPRegressor` — это класс, доступный как часть библиотеки\n",
    "`neuro_network` `sklearn` для выполнения задач регрессии с использованием\n",
    "многослойного персептрона. Также разделим набор данных на две части:\n",
    "- данные обучения (80%), которые будут использоваться для\n",
    "модели обучения;\n",
    "- тестовые данные (20%), по которым будет проверяться точность\n",
    "обученной модели."
   ]
  },
  {
   "cell_type": "code",
   "execution_count": 21,
   "metadata": {},
   "outputs": [
    {
     "name": "stdout",
     "output_type": "stream",
     "text": [
      "Train/Test Sizes:  (404, 13) (102, 13) (404,) (102,)\n"
     ]
    }
   ],
   "source": [
    "X_train, X_test, Y_train, Y_test = train_test_split(\n",
    "    X_boston, Y_boston, \n",
    "    train_size=.8, test_size=.2, \n",
    "    random_state=123)\n",
    "\n",
    "print('Train/Test Sizes: ', X_train.shape, X_test.shape, Y_train.shape, Y_test.shape)\n"
   ]
  },
  {
   "cell_type": "code",
   "execution_count": 22,
   "metadata": {},
   "outputs": [
    {
     "data": {
      "text/html": [
       "<style>#sk-container-id-2 {color: black;background-color: white;}#sk-container-id-2 pre{padding: 0;}#sk-container-id-2 div.sk-toggleable {background-color: white;}#sk-container-id-2 label.sk-toggleable__label {cursor: pointer;display: block;width: 100%;margin-bottom: 0;padding: 0.3em;box-sizing: border-box;text-align: center;}#sk-container-id-2 label.sk-toggleable__label-arrow:before {content: \"▸\";float: left;margin-right: 0.25em;color: #696969;}#sk-container-id-2 label.sk-toggleable__label-arrow:hover:before {color: black;}#sk-container-id-2 div.sk-estimator:hover label.sk-toggleable__label-arrow:before {color: black;}#sk-container-id-2 div.sk-toggleable__content {max-height: 0;max-width: 0;overflow: hidden;text-align: left;background-color: #f0f8ff;}#sk-container-id-2 div.sk-toggleable__content pre {margin: 0.2em;color: black;border-radius: 0.25em;background-color: #f0f8ff;}#sk-container-id-2 input.sk-toggleable__control:checked~div.sk-toggleable__content {max-height: 200px;max-width: 100%;overflow: auto;}#sk-container-id-2 input.sk-toggleable__control:checked~label.sk-toggleable__label-arrow:before {content: \"▾\";}#sk-container-id-2 div.sk-estimator input.sk-toggleable__control:checked~label.sk-toggleable__label {background-color: #d4ebff;}#sk-container-id-2 div.sk-label input.sk-toggleable__control:checked~label.sk-toggleable__label {background-color: #d4ebff;}#sk-container-id-2 input.sk-hidden--visually {border: 0;clip: rect(1px 1px 1px 1px);clip: rect(1px, 1px, 1px, 1px);height: 1px;margin: -1px;overflow: hidden;padding: 0;position: absolute;width: 1px;}#sk-container-id-2 div.sk-estimator {font-family: monospace;background-color: #f0f8ff;border: 1px dotted black;border-radius: 0.25em;box-sizing: border-box;margin-bottom: 0.5em;}#sk-container-id-2 div.sk-estimator:hover {background-color: #d4ebff;}#sk-container-id-2 div.sk-parallel-item::after {content: \"\";width: 100%;border-bottom: 1px solid gray;flex-grow: 1;}#sk-container-id-2 div.sk-label:hover label.sk-toggleable__label {background-color: #d4ebff;}#sk-container-id-2 div.sk-serial::before {content: \"\";position: absolute;border-left: 1px solid gray;box-sizing: border-box;top: 0;bottom: 0;left: 50%;z-index: 0;}#sk-container-id-2 div.sk-serial {display: flex;flex-direction: column;align-items: center;background-color: white;padding-right: 0.2em;padding-left: 0.2em;position: relative;}#sk-container-id-2 div.sk-item {position: relative;z-index: 1;}#sk-container-id-2 div.sk-parallel {display: flex;align-items: stretch;justify-content: center;background-color: white;position: relative;}#sk-container-id-2 div.sk-item::before, #sk-container-id-2 div.sk-parallel-item::before {content: \"\";position: absolute;border-left: 1px solid gray;box-sizing: border-box;top: 0;bottom: 0;left: 50%;z-index: -1;}#sk-container-id-2 div.sk-parallel-item {display: flex;flex-direction: column;z-index: 1;position: relative;background-color: white;}#sk-container-id-2 div.sk-parallel-item:first-child::after {align-self: flex-end;width: 50%;}#sk-container-id-2 div.sk-parallel-item:last-child::after {align-self: flex-start;width: 50%;}#sk-container-id-2 div.sk-parallel-item:only-child::after {width: 0;}#sk-container-id-2 div.sk-dashed-wrapped {border: 1px dashed gray;margin: 0 0.4em 0.5em 0.4em;box-sizing: border-box;padding-bottom: 0.4em;background-color: white;}#sk-container-id-2 div.sk-label label {font-family: monospace;font-weight: bold;display: inline-block;line-height: 1.2em;}#sk-container-id-2 div.sk-label-container {text-align: center;}#sk-container-id-2 div.sk-container {/* jupyter's `normalize.less` sets `[hidden] { display: none; }` but bootstrap.min.css set `[hidden] { display: none !important; }` so we also need the `!important` here to be able to override the default hidden behavior on the sphinx rendered scikit-learn.org. See: https://github.com/scikit-learn/scikit-learn/issues/21755 */display: inline-block !important;position: relative;}#sk-container-id-2 div.sk-text-repr-fallback {display: none;}</style><div id=\"sk-container-id-2\" class=\"sk-top-container\"><div class=\"sk-text-repr-fallback\"><pre>MLPRegressor(random_state=123)</pre><b>In a Jupyter environment, please rerun this cell to show the HTML representation or trust the notebook. <br />On GitHub, the HTML representation is unable to render, please try loading this page with nbviewer.org.</b></div><div class=\"sk-container\" hidden><div class=\"sk-item\"><div class=\"sk-estimator sk-toggleable\"><input class=\"sk-toggleable__control sk-hidden--visually\" id=\"sk-estimator-id-2\" type=\"checkbox\" checked><label for=\"sk-estimator-id-2\" class=\"sk-toggleable__label sk-toggleable__label-arrow\">MLPRegressor</label><div class=\"sk-toggleable__content\"><pre>MLPRegressor(random_state=123)</pre></div></div></div></div></div>"
      ],
      "text/plain": [
       "MLPRegressor(random_state=123)"
      ]
     },
     "execution_count": 22,
     "metadata": {},
     "output_type": "execute_result"
    }
   ],
   "source": [
    "from sklearn.neural_network import MLPRegressor\n",
    "\n",
    "reg = MLPRegressor(random_state=123)\n",
    "reg.fit(X_train, Y_train)"
   ]
  },
  {
   "cell_type": "code",
   "execution_count": 26,
   "metadata": {},
   "outputs": [
    {
     "name": "stdout",
     "output_type": "stream",
     "text": [
      "[5 9 9 6 1 6 6 9 8 7]\n",
      "[15.  26.6 45.4 20.8 34.9 21.9 28.7  7.2 20.  32.2]\n",
      "Test R^2 Score: 0.462\n",
      "Train R^2 Score: 0.510\n"
     ]
    }
   ],
   "source": [
    "y_preds = reg.predict(X_test)\n",
    "\n",
    "print(Y_preds[:10])\n",
    "print(Y_test[:10])\n",
    "print(f\"Test R^2 Score: {reg.score(X_test, Y_test):.3f}\")\n",
    "print(f\"Train R^2 Score: {reg.score(X_train, Y_train):.3f}\")"
   ]
  },
  {
   "cell_type": "markdown",
   "metadata": {},
   "source": [
    "`MLPRegressor` имеет все атрибуты такие же, как и у `MLPClassifier`"
   ]
  },
  {
   "cell_type": "code",
   "execution_count": 27,
   "metadata": {},
   "outputs": [
    {
     "name": "stdout",
     "output_type": "stream",
     "text": [
      "Loss:  28.538174061119594\n",
      "Number of Coefs:  2\n",
      "Number of Intercepts:  2\n",
      "Nmber of Iterations for Which Estimator Ran:  130\n",
      "Name of Output Layer Activation Function:  identity\n"
     ]
    }
   ],
   "source": [
    "print(\"Loss: \", reg.loss_)\n",
    "print(\"Number of Coefs: \", len(reg.coefs_))\n",
    "print(\"Number of Intercepts: \", len(reg.intercepts_))\n",
    "print(\"Nmber of Iterations for Which Estimator Ran: \", reg.n_iter_)\n",
    "print(\"Name of Output Layer Activation Function: \", reg.out_activation_)\n"
   ]
  },
  {
   "cell_type": "markdown",
   "metadata": {},
   "source": [
    "### Задание\n",
    "\n",
    "#### Задача:\n",
    "Используйте классы `MLPClassified` и `MLPRegressor` для классификации и\n",
    "регрессии произвольных данных из интернета. Проведите анализ\n",
    "атрибуты, полученных моделей.\n",
    "Для классификации можете взять набор данных [Ирисов](https://gist.githubusercontent.com/netj/8836201/raw/6f9306ad21398ea43cba4f7d537619d0e07d5ae3/iris.csv).\n",
    "\n",
    "Для регрессии датасет зависимости заработной платы от [опыта работы](https://raw.githubusercontent.com/AnnaShestova/salary-years-simple-linearregression/master/Salary_Data.csv).\n",
    "\n",
    "#### Решение:"
   ]
  },
  {
   "cell_type": "code",
   "execution_count": 29,
   "metadata": {},
   "outputs": [
    {
     "data": {
      "text/html": [
       "<div>\n",
       "<style scoped>\n",
       "    .dataframe tbody tr th:only-of-type {\n",
       "        vertical-align: middle;\n",
       "    }\n",
       "\n",
       "    .dataframe tbody tr th {\n",
       "        vertical-align: top;\n",
       "    }\n",
       "\n",
       "    .dataframe thead th {\n",
       "        text-align: right;\n",
       "    }\n",
       "</style>\n",
       "<table border=\"1\" class=\"dataframe\">\n",
       "  <thead>\n",
       "    <tr style=\"text-align: right;\">\n",
       "      <th></th>\n",
       "      <th>sepal.length</th>\n",
       "      <th>sepal.width</th>\n",
       "      <th>petal.length</th>\n",
       "      <th>petal.width</th>\n",
       "      <th>variety</th>\n",
       "    </tr>\n",
       "  </thead>\n",
       "  <tbody>\n",
       "    <tr>\n",
       "      <th>0</th>\n",
       "      <td>5.1</td>\n",
       "      <td>3.5</td>\n",
       "      <td>1.4</td>\n",
       "      <td>0.2</td>\n",
       "      <td>Setosa</td>\n",
       "    </tr>\n",
       "    <tr>\n",
       "      <th>1</th>\n",
       "      <td>4.9</td>\n",
       "      <td>3.0</td>\n",
       "      <td>1.4</td>\n",
       "      <td>0.2</td>\n",
       "      <td>Setosa</td>\n",
       "    </tr>\n",
       "    <tr>\n",
       "      <th>2</th>\n",
       "      <td>4.7</td>\n",
       "      <td>3.2</td>\n",
       "      <td>1.3</td>\n",
       "      <td>0.2</td>\n",
       "      <td>Setosa</td>\n",
       "    </tr>\n",
       "    <tr>\n",
       "      <th>3</th>\n",
       "      <td>4.6</td>\n",
       "      <td>3.1</td>\n",
       "      <td>1.5</td>\n",
       "      <td>0.2</td>\n",
       "      <td>Setosa</td>\n",
       "    </tr>\n",
       "    <tr>\n",
       "      <th>4</th>\n",
       "      <td>5.0</td>\n",
       "      <td>3.6</td>\n",
       "      <td>1.4</td>\n",
       "      <td>0.2</td>\n",
       "      <td>Setosa</td>\n",
       "    </tr>\n",
       "  </tbody>\n",
       "</table>\n",
       "</div>"
      ],
      "text/plain": [
       "   sepal.length  sepal.width  petal.length  petal.width variety\n",
       "0           5.1          3.5           1.4          0.2  Setosa\n",
       "1           4.9          3.0           1.4          0.2  Setosa\n",
       "2           4.7          3.2           1.3          0.2  Setosa\n",
       "3           4.6          3.1           1.5          0.2  Setosa\n",
       "4           5.0          3.6           1.4          0.2  Setosa"
      ]
     },
     "execution_count": 29,
     "metadata": {},
     "output_type": "execute_result"
    }
   ],
   "source": [
    "iris = pd.read_csv('https://gist.githubusercontent.com/netj/8836201/raw/6f9306ad21398ea43cba4f7d537619d0e07d5ae3/iris.csv')\n",
    "iris.head()"
   ]
  },
  {
   "cell_type": "code",
   "execution_count": 32,
   "metadata": {},
   "outputs": [
    {
     "data": {
      "text/html": [
       "<div>\n",
       "<style scoped>\n",
       "    .dataframe tbody tr th:only-of-type {\n",
       "        vertical-align: middle;\n",
       "    }\n",
       "\n",
       "    .dataframe tbody tr th {\n",
       "        vertical-align: top;\n",
       "    }\n",
       "\n",
       "    .dataframe thead th {\n",
       "        text-align: right;\n",
       "    }\n",
       "</style>\n",
       "<table border=\"1\" class=\"dataframe\">\n",
       "  <thead>\n",
       "    <tr style=\"text-align: right;\">\n",
       "      <th></th>\n",
       "      <th>sepal.length</th>\n",
       "      <th>sepal.width</th>\n",
       "      <th>petal.length</th>\n",
       "      <th>petal.width</th>\n",
       "    </tr>\n",
       "  </thead>\n",
       "  <tbody>\n",
       "    <tr>\n",
       "      <th>0</th>\n",
       "      <td>5.1</td>\n",
       "      <td>3.5</td>\n",
       "      <td>1.4</td>\n",
       "      <td>0.2</td>\n",
       "    </tr>\n",
       "    <tr>\n",
       "      <th>1</th>\n",
       "      <td>4.9</td>\n",
       "      <td>3.0</td>\n",
       "      <td>1.4</td>\n",
       "      <td>0.2</td>\n",
       "    </tr>\n",
       "    <tr>\n",
       "      <th>2</th>\n",
       "      <td>4.7</td>\n",
       "      <td>3.2</td>\n",
       "      <td>1.3</td>\n",
       "      <td>0.2</td>\n",
       "    </tr>\n",
       "    <tr>\n",
       "      <th>3</th>\n",
       "      <td>4.6</td>\n",
       "      <td>3.1</td>\n",
       "      <td>1.5</td>\n",
       "      <td>0.2</td>\n",
       "    </tr>\n",
       "    <tr>\n",
       "      <th>4</th>\n",
       "      <td>5.0</td>\n",
       "      <td>3.6</td>\n",
       "      <td>1.4</td>\n",
       "      <td>0.2</td>\n",
       "    </tr>\n",
       "  </tbody>\n",
       "</table>\n",
       "</div>"
      ],
      "text/plain": [
       "   sepal.length  sepal.width  petal.length  petal.width\n",
       "0           5.1          3.5           1.4          0.2\n",
       "1           4.9          3.0           1.4          0.2\n",
       "2           4.7          3.2           1.3          0.2\n",
       "3           4.6          3.1           1.5          0.2\n",
       "4           5.0          3.6           1.4          0.2"
      ]
     },
     "execution_count": 32,
     "metadata": {},
     "output_type": "execute_result"
    }
   ],
   "source": [
    "x_iris = iris.iloc[:,:-1]\n",
    "x_iris.head()"
   ]
  },
  {
   "cell_type": "code",
   "execution_count": 65,
   "metadata": {
    "scrolled": true
   },
   "outputs": [
    {
     "data": {
      "text/plain": [
       "[array(['Setosa', 'Versicolor', 'Virginica'], dtype=object)]"
      ]
     },
     "execution_count": 65,
     "metadata": {},
     "output_type": "execute_result"
    }
   ],
   "source": [
    "from sklearn.preprocessing import OrdinalEncoder\n",
    "\n",
    "\n",
    "\n",
    "enc = OrdinalEncoder()\n",
    "\n",
    "y_iris = enc.fit_transform(iris.iloc[:, -1:])[:,0]\n",
    "enc.categories_"
   ]
  },
  {
   "cell_type": "code",
   "execution_count": 66,
   "metadata": {},
   "outputs": [
    {
     "name": "stderr",
     "output_type": "stream",
     "text": [
      "/Users/burenotti/Desktop/Искусственный интеллект/.venv/lib/python3.11/site-packages/sklearn/neural_network/_multilayer_perceptron.py:686: ConvergenceWarning: Stochastic Optimizer: Maximum iterations (200) reached and the optimization hasn't converged yet.\n",
      "  warnings.warn(\n"
     ]
    },
    {
     "data": {
      "text/html": [
       "<style>#sk-container-id-5 {color: black;background-color: white;}#sk-container-id-5 pre{padding: 0;}#sk-container-id-5 div.sk-toggleable {background-color: white;}#sk-container-id-5 label.sk-toggleable__label {cursor: pointer;display: block;width: 100%;margin-bottom: 0;padding: 0.3em;box-sizing: border-box;text-align: center;}#sk-container-id-5 label.sk-toggleable__label-arrow:before {content: \"▸\";float: left;margin-right: 0.25em;color: #696969;}#sk-container-id-5 label.sk-toggleable__label-arrow:hover:before {color: black;}#sk-container-id-5 div.sk-estimator:hover label.sk-toggleable__label-arrow:before {color: black;}#sk-container-id-5 div.sk-toggleable__content {max-height: 0;max-width: 0;overflow: hidden;text-align: left;background-color: #f0f8ff;}#sk-container-id-5 div.sk-toggleable__content pre {margin: 0.2em;color: black;border-radius: 0.25em;background-color: #f0f8ff;}#sk-container-id-5 input.sk-toggleable__control:checked~div.sk-toggleable__content {max-height: 200px;max-width: 100%;overflow: auto;}#sk-container-id-5 input.sk-toggleable__control:checked~label.sk-toggleable__label-arrow:before {content: \"▾\";}#sk-container-id-5 div.sk-estimator input.sk-toggleable__control:checked~label.sk-toggleable__label {background-color: #d4ebff;}#sk-container-id-5 div.sk-label input.sk-toggleable__control:checked~label.sk-toggleable__label {background-color: #d4ebff;}#sk-container-id-5 input.sk-hidden--visually {border: 0;clip: rect(1px 1px 1px 1px);clip: rect(1px, 1px, 1px, 1px);height: 1px;margin: -1px;overflow: hidden;padding: 0;position: absolute;width: 1px;}#sk-container-id-5 div.sk-estimator {font-family: monospace;background-color: #f0f8ff;border: 1px dotted black;border-radius: 0.25em;box-sizing: border-box;margin-bottom: 0.5em;}#sk-container-id-5 div.sk-estimator:hover {background-color: #d4ebff;}#sk-container-id-5 div.sk-parallel-item::after {content: \"\";width: 100%;border-bottom: 1px solid gray;flex-grow: 1;}#sk-container-id-5 div.sk-label:hover label.sk-toggleable__label {background-color: #d4ebff;}#sk-container-id-5 div.sk-serial::before {content: \"\";position: absolute;border-left: 1px solid gray;box-sizing: border-box;top: 0;bottom: 0;left: 50%;z-index: 0;}#sk-container-id-5 div.sk-serial {display: flex;flex-direction: column;align-items: center;background-color: white;padding-right: 0.2em;padding-left: 0.2em;position: relative;}#sk-container-id-5 div.sk-item {position: relative;z-index: 1;}#sk-container-id-5 div.sk-parallel {display: flex;align-items: stretch;justify-content: center;background-color: white;position: relative;}#sk-container-id-5 div.sk-item::before, #sk-container-id-5 div.sk-parallel-item::before {content: \"\";position: absolute;border-left: 1px solid gray;box-sizing: border-box;top: 0;bottom: 0;left: 50%;z-index: -1;}#sk-container-id-5 div.sk-parallel-item {display: flex;flex-direction: column;z-index: 1;position: relative;background-color: white;}#sk-container-id-5 div.sk-parallel-item:first-child::after {align-self: flex-end;width: 50%;}#sk-container-id-5 div.sk-parallel-item:last-child::after {align-self: flex-start;width: 50%;}#sk-container-id-5 div.sk-parallel-item:only-child::after {width: 0;}#sk-container-id-5 div.sk-dashed-wrapped {border: 1px dashed gray;margin: 0 0.4em 0.5em 0.4em;box-sizing: border-box;padding-bottom: 0.4em;background-color: white;}#sk-container-id-5 div.sk-label label {font-family: monospace;font-weight: bold;display: inline-block;line-height: 1.2em;}#sk-container-id-5 div.sk-label-container {text-align: center;}#sk-container-id-5 div.sk-container {/* jupyter's `normalize.less` sets `[hidden] { display: none; }` but bootstrap.min.css set `[hidden] { display: none !important; }` so we also need the `!important` here to be able to override the default hidden behavior on the sphinx rendered scikit-learn.org. See: https://github.com/scikit-learn/scikit-learn/issues/21755 */display: inline-block !important;position: relative;}#sk-container-id-5 div.sk-text-repr-fallback {display: none;}</style><div id=\"sk-container-id-5\" class=\"sk-top-container\"><div class=\"sk-text-repr-fallback\"><pre>MLPClassifier(random_state=123)</pre><b>In a Jupyter environment, please rerun this cell to show the HTML representation or trust the notebook. <br />On GitHub, the HTML representation is unable to render, please try loading this page with nbviewer.org.</b></div><div class=\"sk-container\" hidden><div class=\"sk-item\"><div class=\"sk-estimator sk-toggleable\"><input class=\"sk-toggleable__control sk-hidden--visually\" id=\"sk-estimator-id-5\" type=\"checkbox\" checked><label for=\"sk-estimator-id-5\" class=\"sk-toggleable__label sk-toggleable__label-arrow\">MLPClassifier</label><div class=\"sk-toggleable__content\"><pre>MLPClassifier(random_state=123)</pre></div></div></div></div></div>"
      ],
      "text/plain": [
       "MLPClassifier(random_state=123)"
      ]
     },
     "execution_count": 66,
     "metadata": {},
     "output_type": "execute_result"
    }
   ],
   "source": [
    "X_train, X_test, Y_train, Y_test = train_test_split(\n",
    "    x_iris, y_iris, \n",
    "    train_size=.8, test_size=.2, \n",
    "    stratify=y_iris,\n",
    "    random_state=123)\n",
    "\n",
    "cl = MLPClassifier(random_state=123)\n",
    "cl.fit(X_train, Y_train)"
   ]
  },
  {
   "cell_type": "code",
   "execution_count": 67,
   "metadata": {},
   "outputs": [
    {
     "name": "stdout",
     "output_type": "stream",
     "text": [
      "[1. 0. 2. 2. 0. 0. 2. 2. 2. 0. 0. 1. 2. 1. 2.]\n",
      "[1. 0. 2. 2. 0. 0. 2. 1. 2. 0. 0. 1. 2. 1. 2.]\n",
      "Test Accuracy: 0.933\n",
      "Training Accuracy: 0.983\n"
     ]
    }
   ],
   "source": [
    "Y_preds = cl.predict(X_test)\n",
    "\n",
    "print(Y_preds[:15])\n",
    "print(Y_test[:15])\n",
    "print(f'Test Accuracy: {cl.score(X_test, Y_test):.3f}')\n",
    "print(f'Training Accuracy: {cl.score(X_train, Y_train):.3f}')"
   ]
  },
  {
   "cell_type": "code",
   "execution_count": 68,
   "metadata": {},
   "outputs": [
    {
     "name": "stdout",
     "output_type": "stream",
     "text": [
      "Loss:  0.2988789340197433\n",
      "Number of Coefs:  2\n",
      "Number of Intercepts:  2\n",
      "Nmber of Iterations for Which Estimator Ran:  200\n",
      "Name of Output Layer Activation Function:  softmax\n"
     ]
    }
   ],
   "source": [
    "print(\"Loss: \", cl.loss_)\n",
    "print(\"Number of Coefs: \", len(cl.coefs_))\n",
    "print(\"Number of Intercepts: \", len(cl.intercepts_))\n",
    "print(\"Nmber of Iterations for Which Estimator Ran: \", cl.n_iter_)\n",
    "print(\"Name of Output Layer Activation Function: \", cl.out_activation_)\n"
   ]
  },
  {
   "cell_type": "code",
   "execution_count": 70,
   "metadata": {},
   "outputs": [
    {
     "data": {
      "text/html": [
       "<div>\n",
       "<style scoped>\n",
       "    .dataframe tbody tr th:only-of-type {\n",
       "        vertical-align: middle;\n",
       "    }\n",
       "\n",
       "    .dataframe tbody tr th {\n",
       "        vertical-align: top;\n",
       "    }\n",
       "\n",
       "    .dataframe thead th {\n",
       "        text-align: right;\n",
       "    }\n",
       "</style>\n",
       "<table border=\"1\" class=\"dataframe\">\n",
       "  <thead>\n",
       "    <tr style=\"text-align: right;\">\n",
       "      <th></th>\n",
       "      <th>YearsExperience</th>\n",
       "      <th>Salary</th>\n",
       "    </tr>\n",
       "  </thead>\n",
       "  <tbody>\n",
       "    <tr>\n",
       "      <th>0</th>\n",
       "      <td>1.1</td>\n",
       "      <td>39343.0</td>\n",
       "    </tr>\n",
       "    <tr>\n",
       "      <th>1</th>\n",
       "      <td>1.3</td>\n",
       "      <td>46205.0</td>\n",
       "    </tr>\n",
       "    <tr>\n",
       "      <th>2</th>\n",
       "      <td>1.5</td>\n",
       "      <td>37731.0</td>\n",
       "    </tr>\n",
       "    <tr>\n",
       "      <th>3</th>\n",
       "      <td>2.0</td>\n",
       "      <td>43525.0</td>\n",
       "    </tr>\n",
       "    <tr>\n",
       "      <th>4</th>\n",
       "      <td>2.2</td>\n",
       "      <td>39891.0</td>\n",
       "    </tr>\n",
       "  </tbody>\n",
       "</table>\n",
       "</div>"
      ],
      "text/plain": [
       "   YearsExperience   Salary\n",
       "0              1.1  39343.0\n",
       "1              1.3  46205.0\n",
       "2              1.5  37731.0\n",
       "3              2.0  43525.0\n",
       "4              2.2  39891.0"
      ]
     },
     "execution_count": 70,
     "metadata": {},
     "output_type": "execute_result"
    }
   ],
   "source": [
    "payment = pd.read_csv('https://raw.githubusercontent.com/AnnaShestova/salary-years-simple-linear-regression/master/Salary_Data.csv')\n",
    "payment.head()"
   ]
  },
  {
   "cell_type": "code",
   "execution_count": 81,
   "metadata": {},
   "outputs": [
    {
     "name": "stdout",
     "output_type": "stream",
     "text": [
      "Train/Test Sizes:  (24, 1) (6, 1) (24,) (6,)\n"
     ]
    }
   ],
   "source": [
    "x_payment = payment.iloc[:,:-1]\n",
    "y_payment = payment.iloc[:,-1]\n",
    "\n",
    "X_train, X_test, Y_train, Y_test = train_test_split(\n",
    "    x_payment, y_payment, \n",
    "    train_size=.8, test_size=.2, \n",
    "    random_state=123)\n",
    "\n",
    "print('Train/Test Sizes: ', X_train.shape, X_test.shape, Y_train.shape, Y_test.shape)\n"
   ]
  },
  {
   "cell_type": "code",
   "execution_count": 84,
   "metadata": {},
   "outputs": [
    {
     "name": "stdout",
     "output_type": "stream",
     "text": [
      "[1. 0. 2. 2. 0. 0. 2. 2. 2. 0.]\n",
      "7      54445.0\n",
      "29    121872.0\n",
      "5      56642.0\n",
      "26    116969.0\n",
      "8      64445.0\n",
      "27    112635.0\n",
      "Name: Salary, dtype: float64\n",
      "Test R^2 Score: -0.758\n",
      "Train R^2 Score: -0.874\n"
     ]
    },
    {
     "name": "stderr",
     "output_type": "stream",
     "text": [
      "/Users/burenotti/Desktop/Искусственный интеллект/.venv/lib/python3.11/site-packages/sklearn/neural_network/_multilayer_perceptron.py:686: ConvergenceWarning: Stochastic Optimizer: Maximum iterations (10000) reached and the optimization hasn't converged yet.\n",
      "  warnings.warn(\n"
     ]
    }
   ],
   "source": [
    "from sklearn.neural_network import MLPRegressor\n",
    "\n",
    "reg = MLPRegressor(random_state=123)\n",
    "reg.fit(X_train, Y_train)\n",
    "\n",
    "y_preds = reg.predict(X_test)\n",
    "\n",
    "print(Y_preds[:10])\n",
    "print(Y_test[:10])\n",
    "print(f\"Test R^2 Score: {reg.score(X_test, Y_test):.3f}\")\n",
    "print(f\"Train R^2 Score: {reg.score(X_train, Y_train):.3f}\")"
   ]
  },
  {
   "cell_type": "code",
   "execution_count": 85,
   "metadata": {},
   "outputs": [
    {
     "name": "stdout",
     "output_type": "stream",
     "text": [
      "Loss:  604771350.8635341\n",
      "Number of Coefs:  2\n",
      "Number of Intercepts:  2\n",
      "Nmber of Iterations for Which Estimator Ran:  10000\n",
      "Name of Output Layer Activation Function:  identity\n"
     ]
    }
   ],
   "source": [
    "print(\"Loss: \", reg.loss_)\n",
    "print(\"Number of Coefs: \", len(reg.coefs_))\n",
    "print(\"Number of Intercepts: \", len(reg.intercepts_))\n",
    "print(\"Nmber of Iterations for Which Estimator Ran: \", reg.n_iter_)\n",
    "print(\"Name of Output Layer Activation Function: \", reg.out_activation_)\n"
   ]
  },
  {
   "cell_type": "code",
   "execution_count": null,
   "metadata": {},
   "outputs": [],
   "source": []
  }
 ],
 "metadata": {
  "kernelspec": {
   "display_name": "Python 3 (ipykernel)",
   "language": "python",
   "name": "python3"
  },
  "language_info": {
   "codemirror_mode": {
    "name": "ipython",
    "version": 3
   },
   "file_extension": ".py",
   "mimetype": "text/x-python",
   "name": "python",
   "nbconvert_exporter": "python",
   "pygments_lexer": "ipython3",
   "version": "3.11.1"
  }
 },
 "nbformat": 4,
 "nbformat_minor": 1
}
