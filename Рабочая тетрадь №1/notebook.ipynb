{
 "cells": [
  {
   "cell_type": "code",
   "execution_count": 2,
   "id": "da6eaa01",
   "metadata": {},
   "outputs": [],
   "source": [
    "import numpy as np\n",
    "import matplotlib.pyplot as plt\n",
    "import random\n",
    "import pandas as pd\n",
    "import math as m\n",
    "import datetime as dt\n",
    "from datetime import date"
   ]
  },
  {
   "cell_type": "markdown",
   "id": "4207d359",
   "metadata": {},
   "source": [
    "### 1.1. Теоретический материал – Типы данных\n",
    "\n",
    "**Типы данных**\n",
    "\n",
    "Все типы данных в Python относятся к одной из 2-х категорий: изменяемые (mutable) и неизменяемые (immutable).\n",
    "\n",
    "Неизменяемые объекты:\n",
    "- числовые данные (int, float),\n",
    "- bool,\n",
    "- None,\n",
    "- символьные строки (class 'str'),\n",
    "- кортежи (tuple).\n",
    "\n",
    "Изменяемые объекты:\n",
    "- списки (list),\n",
    "- множества (set),\n",
    "- словари (dict)."
   ]
  },
  {
   "cell_type": "markdown",
   "id": "56213597",
   "metadata": {},
   "source": [
    "### 1.2 Пример\n",
    "\n",
    "#### Задача:\n",
    "\n",
    "Выведите на печать и определите тип переменной."
   ]
  },
  {
   "cell_type": "code",
   "execution_count": 3,
   "id": "fe9c667c",
   "metadata": {},
   "outputs": [],
   "source": [
    "x = 3 + 5.2 * 7\n",
    "y = None\n",
    "z = 'a', 5, 12.345, (2, 'b')\n",
    "df = [['Антонова Антонина', 34, 'ж'], ['Борисов Борис', 26, 'м']]\n",
    "A = {1, 'title', 'content'}"
   ]
  },
  {
   "cell_type": "markdown",
   "id": "2148d188",
   "metadata": {},
   "source": [
    "#### Решение:"
   ]
  },
  {
   "cell_type": "code",
   "execution_count": 5,
   "id": "27cc1e0a",
   "metadata": {},
   "outputs": [
    {
     "name": "stdout",
     "output_type": "stream",
     "text": [
      "39.4 | <class 'float'>\n",
      "None | <class 'NoneType'>\n",
      "('a', 5, 12.345, (2, 'b')) | <class 'tuple'>\n",
      "[['Антонова Антонина', 34, 'ж'], ['Борисов Борис', 26, 'м']] | <class 'list'>\n",
      "{1, 'content', 'title'} | <class 'set'>\n"
     ]
    }
   ],
   "source": [
    "print(*map(lambda x: f\"{x} | {type(x)}\", [x, y, z, df, A]), sep='\\n')"
   ]
  },
  {
   "cell_type": "markdown",
   "id": "63b90e07",
   "metadata": {},
   "source": [
    "### 1.3 Задание\n",
    "\n",
    "#### Задача:\n",
    "\n",
    "Выведите на печать и определите тип переменной.\n",
    "\n",
    "#### Решение:"
   ]
  },
  {
   "cell_type": "code",
   "execution_count": 6,
   "id": "27a39468",
   "metadata": {},
   "outputs": [],
   "source": [
    "X = 5 >= 2\n",
    "A = {1, 3, 7, 8}\n",
    "B = {2, 4, 5, 10, 'apple'}\n",
    "C = A & B\n",
    "df = 'Антонова Антонина', 34, 'ж'\n",
    "z = 'type'"
   ]
  },
  {
   "cell_type": "markdown",
   "id": "f7231c42",
   "metadata": {},
   "source": [
    "**Решение**"
   ]
  },
  {
   "cell_type": "code",
   "execution_count": 23,
   "id": "90641ccc",
   "metadata": {},
   "outputs": [
    {
     "name": "stdout",
     "output_type": "stream",
     "text": [
      "True | <class 'bool'>\n",
      "{8, 1, 3, 7} | <class 'set'>\n",
      "{2, 4, 5, 10, 'apple'} | <class 'set'>\n",
      "set() | <class 'set'>\n",
      "('Антонова Антонина', 34, 'ж') | <class 'tuple'>\n",
      "type | <class 'str'>\n"
     ]
    }
   ],
   "source": [
    "print(*map(lambda x: f\"{x} | {type(x)}\", [X, A, B, C, df, z]), sep='\\n')"
   ]
  },
  {
   "cell_type": "markdown",
   "id": "117ef93e",
   "metadata": {},
   "source": [
    "### 2.1. Теоретический материал – Условный оператор\n",
    "\n",
    "**If – Условный оператор**\n",
    "\n",
    "В коде часто приходится проверять выполнимость или невыполнимость каких-то условий. Синтаксис:\n",
    "\n",
    "    if <условие1 (булевское выражение)> :\n",
    "        <код, который выполнится, если условие верно> \n",
    "    elif <условие2 (булевское выражение)>:\n",
    "        <код, который выполнится, если условие1 было неверно, а условие2 верно>\n",
    "    else:\n",
    "        <код, который выполнится, если условие1 и условие2 были неверны>\n",
    "\n",
    "Обратите внимание, что код, который должен выполняться внутри каждого условия, записывается с отступом в 4 пробела от уровня if, elif и else: в питоне области видимости переменных обозначаются отступами.\n",
    "\n",
    "**_То есть, отступы позволяют понять, где начинается код, который должен выполняться при выполнении условия в if, и где заканчивается._**"
   ]
  },
  {
   "cell_type": "markdown",
   "id": "af39c1bd",
   "metadata": {},
   "source": [
    "### 2.2 Пример\n",
    "\n",
    "#### Задача:\n",
    "\n",
    "Вывести на экран является ли переменная х положительной, отрицательной или равна нулю.\n",
    "\n",
    "#### Решение:"
   ]
  },
  {
   "cell_type": "code",
   "execution_count": 24,
   "id": "bb6d67b4",
   "metadata": {},
   "outputs": [
    {
     "name": "stdout",
     "output_type": "stream",
     "text": [
      "x положительный\n"
     ]
    }
   ],
   "source": [
    "x = 125\n",
    "if x < 0:\n",
    "    print(\"x отрицательный\")\n",
    "elif x == 0:\n",
    "    print(\"x равен нулю\")\n",
    "else:\n",
    "    print(\"x положительный\")"
   ]
  },
  {
   "cell_type": "markdown",
   "id": "8596ba70",
   "metadata": {},
   "source": [
    "### 2.3 Задание\n",
    "\n",
    "#### Задача:\n",
    "\n",
    "Напишите код. Задается х, напечатать какому из интервалов\n",
    "принадлежит: (-infinity, -5), \\[-5, 5\\] или от (5, +infinity)\n",
    "\n",
    "#### Решение:"
   ]
  },
  {
   "cell_type": "code",
   "execution_count": 25,
   "id": "e8c6a06b",
   "metadata": {},
   "outputs": [
    {
     "name": "stdout",
     "output_type": "stream",
     "text": [
      "5\n",
      "[-5, 5]\n"
     ]
    }
   ],
   "source": [
    "x = int(input())\n",
    "if x < -5:\n",
    "    print(\"(-inf, -5)\")\n",
    "elif x <= 5:\n",
    "    print(\"[-5, 5]\")\n",
    "else:\n",
    "    print(\"(5, inf)\")"
   ]
  },
  {
   "cell_type": "markdown",
   "id": "8bae50e7",
   "metadata": {},
   "source": [
    "### 3.1. Теоретический материал – Циклы, массивы, срезы\n",
    "\n",
    "Циклы - **for** и **while**\n",
    "\n",
    "Цикл **while** проверяет истинность условия, и если условие истинно, то выполняет инструкции цикла.\n",
    "    \n",
    "Синтаксис: \n",
    "\n",
    "    while условие: \n",
    "        инструкции\n",
    "\n",
    "Инструкции, которые относятся к циклу **while**, располагаются на последующих строках и должны иметь отступ от начала ключевого слова **while**.\n",
    "\n",
    "Цикл **for** проходит по набору значений, помещает каждое значение в переменную с которой в цикле можно производить различные действия.\n",
    "\n",
    "Синтаксис:\n",
    "\n",
    "    for переменная in набор_значений:\n",
    "        инструкции\n",
    "\n",
    "После ключевого слова **for** идет название переменной, в которую\n",
    "будут помещаться значения. После оператора **in** указывается набор значений и двоеточие. Инструкции, которые относятся к циклу, располагаются на последующих строках и должны иметь отступ.\n",
    "При создании цикла удобно пользоваться функцией **range(a, b)**, которая создает последовательность чисел от **a** до **b-1**."
   ]
  },
  {
   "cell_type": "markdown",
   "id": "edf97ade",
   "metadata": {},
   "source": [
    "### 3.2.1 Пример\n",
    "\n",
    "#### Задача:\n",
    "\n",
    "Вывести все числа от 1 до 10 с шагом 3.\n",
    "\n",
    "#### Решение:"
   ]
  },
  {
   "cell_type": "code",
   "execution_count": 26,
   "id": "54d81424",
   "metadata": {},
   "outputs": [
    {
     "name": "stdout",
     "output_type": "stream",
     "text": [
      "1\n",
      "4\n",
      "7\n",
      "10\n"
     ]
    }
   ],
   "source": [
    "x = 1\n",
    "while x <= 10:\n",
    "    print(x)\n",
    "    x += 3"
   ]
  },
  {
   "cell_type": "markdown",
   "id": "d0e9f04b",
   "metadata": {},
   "source": [
    "### 3.2.2 Пример\n",
    "\n",
    "#### Задача: \n",
    "\n",
    "Задан список. Напечатать все элементы списка.\n",
    "\n",
    "#### Решение:"
   ]
  },
  {
   "cell_type": "code",
   "execution_count": 27,
   "id": "c8185101",
   "metadata": {},
   "outputs": [
    {
     "name": "stdout",
     "output_type": "stream",
     "text": [
      "KNN\n",
      "decision tree\n",
      "linear model\n"
     ]
    }
   ],
   "source": [
    "models = ['KNN', 'decision tree', 'linear model']\n",
    "for model in models:\n",
    "    print(model)"
   ]
  },
  {
   "cell_type": "markdown",
   "id": "db18c3e5",
   "metadata": {},
   "source": [
    "### 3.2.3 Пример\n",
    "\n",
    "#### Задача: \n",
    "\n",
    "Создать список от 1 до 99 с шагом 7.\n",
    "\n",
    "#### Решение:"
   ]
  },
  {
   "cell_type": "code",
   "execution_count": 28,
   "id": "7e8a7ecf",
   "metadata": {},
   "outputs": [
    {
     "data": {
      "text/plain": [
       "[1, 8, 15, 22, 29, 36, 43, 50, 57, 64, 71, 78, 85, 92, 99]"
      ]
     },
     "execution_count": 28,
     "metadata": {},
     "output_type": "execute_result"
    }
   ],
   "source": [
    "list_int = list(range(1, 100, 7))\n",
    "list_int"
   ]
  },
  {
   "cell_type": "markdown",
   "id": "6f2c750a",
   "metadata": {},
   "source": [
    "### 3.2.4 Пример\n",
    "\n",
    "#### Задача: \n",
    "\n",
    "Вывести на экран числа от 1 до 105 с шагом 25, используя функцию\n",
    "range()\n",
    "\n",
    "#### Решение:"
   ]
  },
  {
   "cell_type": "code",
   "execution_count": 29,
   "id": "a0d616c5",
   "metadata": {},
   "outputs": [
    {
     "name": "stdout",
     "output_type": "stream",
     "text": [
      "5\n",
      "30\n",
      "55\n",
      "80\n",
      "105\n"
     ]
    }
   ],
   "source": [
    "for i in range(5, 106, 25):\n",
    "    print(i)"
   ]
  },
  {
   "cell_type": "markdown",
   "id": "3543ef6c",
   "metadata": {},
   "source": [
    "### 3.2.5 Пример\n",
    "\n",
    "#### Задача: \n",
    "\n",
    "**Срез.** Необходимо получить каждый k-й элемент массива a, начиная с элемента с индексом i (включительно) и заканчивая элементом с индексом j (не включительно), c шагом 2. Или переставить все элементы в обратном порядке.\n",
    "\n",
    "#### Решение:"
   ]
  },
  {
   "cell_type": "code",
   "execution_count": 30,
   "id": "60598718",
   "metadata": {},
   "outputs": [
    {
     "name": "stdout",
     "output_type": "stream",
     "text": [
      "[2, 4, 6]\n",
      "[9, 8, 7, 6, 5, 4, 3, 2, 1]\n"
     ]
    }
   ],
   "source": [
    "a = [1, 2, 3, 4, 5, 6, 7, 8, 9]\n",
    "b = a[1:7:2]\n",
    "c = a[::-1]\n",
    "print(b)\n",
    "print(c)"
   ]
  },
  {
   "cell_type": "markdown",
   "id": "8a3110ec",
   "metadata": {},
   "source": [
    "### 3.3.1 Задание\n",
    "\n",
    "#### Задача: \n",
    "\n",
    "Выведите числа из примера на while (3.2.1) в обратном порядке.\n",
    "\n",
    "#### Решение:"
   ]
  },
  {
   "cell_type": "code",
   "execution_count": 31,
   "id": "b0d319c2",
   "metadata": {},
   "outputs": [
    {
     "data": {
      "text/plain": [
       "[10, 7, 4, 1]"
      ]
     },
     "execution_count": 31,
     "metadata": {},
     "output_type": "execute_result"
    }
   ],
   "source": [
    "x = [1, 4, 7, 10]\n",
    "x[::-1]"
   ]
  },
  {
   "cell_type": "markdown",
   "id": "69915d38",
   "metadata": {},
   "source": [
    "### 3.3.2 Задание\n",
    "\n",
    "#### Задача: \n",
    "\n",
    "При решении задач машинного обучения часто в качестве объектов исследования выступает человек. Создайте список значимых характеристик (признаков), идентифицирующих человека. Выведите список на экран.\n",
    "\n",
    "#### Решение:"
   ]
  },
  {
   "cell_type": "code",
   "execution_count": 32,
   "id": "1219928b",
   "metadata": {},
   "outputs": [],
   "source": [
    "humans = [\n",
    "    [192, 90, 'male', 'blue'],\n",
    "    [160, 60, 'female', 'green'],\n",
    "    [170, 70, 'male', 'black'],\n",
    "]"
   ]
  },
  {
   "cell_type": "markdown",
   "id": "3ccf568d",
   "metadata": {},
   "source": [
    "### 3.3.3 Задание\n",
    "\n",
    "#### Задача: \n",
    "\n",
    "Создать список чисел от 2 до 15 с шагом 1.\n",
    "\n",
    "#### Решение:"
   ]
  },
  {
   "cell_type": "code",
   "execution_count": 33,
   "id": "d35c18fc",
   "metadata": {},
   "outputs": [
    {
     "data": {
      "text/plain": [
       "[2, 3, 4, 5, 6, 7, 8, 9, 10, 11, 12, 13, 14, 15]"
      ]
     },
     "execution_count": 33,
     "metadata": {},
     "output_type": "execute_result"
    }
   ],
   "source": [
    "x = [i for i in range(2, 16)]\n",
    "x"
   ]
  },
  {
   "cell_type": "markdown",
   "id": "0937d186",
   "metadata": {},
   "source": [
    "### 3.3.4 Задание\n",
    "\n",
    "#### Задача: \n",
    "\n",
    "Выведите числа из примера на for c функцией range() (3.2.4) в обратном порядке.\n",
    "\n",
    "#### Решение:"
   ]
  },
  {
   "cell_type": "code",
   "execution_count": 34,
   "id": "532230e0",
   "metadata": {},
   "outputs": [
    {
     "name": "stdout",
     "output_type": "stream",
     "text": [
      "105\n",
      "80\n",
      "55\n",
      "30\n",
      "5\n"
     ]
    }
   ],
   "source": [
    "for i in range(105, 4, -25):\n",
    "    print(i)"
   ]
  },
  {
   "cell_type": "markdown",
   "id": "e212ae0b",
   "metadata": {},
   "source": [
    "### 3.3.5 Задание\n",
    "\n",
    "#### Задача: \n",
    "\n",
    "Срез. Напишите код, который все элементы массива x с четными индексами переставит в обратном порядке. Т.е. если x = \\[0, 1, 2, 3, 4, 5, 6, 7, 8, 9\\], то код должен сформировать \\[8, 1, 6, 3, 4, 5, 2, 7, 0, 9\\].\n",
    "\n",
    "#### Решение:"
   ]
  },
  {
   "cell_type": "code",
   "execution_count": 35,
   "id": "f0e7c91e",
   "metadata": {},
   "outputs": [
    {
     "data": {
      "text/plain": [
       "[8, 1, 6, 3, 4, 5, 2, 7, 0, 9]"
      ]
     },
     "execution_count": 35,
     "metadata": {},
     "output_type": "execute_result"
    }
   ],
   "source": [
    "x = list(range(10))\n",
    "y = []\n",
    "\n",
    "x[::2] = x[-2::-2]\n",
    "x"
   ]
  },
  {
   "cell_type": "markdown",
   "id": "804f51a0",
   "metadata": {},
   "source": [
    "### 4.1. Теоретический материал - Библиотеки\n",
    "\n",
    "Машинное обучение опирается на фундаментальные понятия и законы математики и информатики. Библиотека математических функций (math) применяется при решении большинства прикладных задач анализа данных. Также, и некоторые другие библиотеки Python содержат математические функции (например, NumPy). Важную роль играет библиотека matplotlib, которая позволяет производить визуализацию расчетов в удобной для восприятия человеком форме: графики, диаграммы, гистограммы.\n",
    "\n",
    "Подключение библиотек – синтаксис: import math as m\n",
    "\n",
    "    import numpy as np\n",
    "    import matplotlib.pyplot as plt\n",
    "    # etc...\n",
    "\n",
    "Библиотеки в python содержат не только функции, позволяющие решать различные задачи, но и некоторые популярные константы, например число Эйлера."
   ]
  },
  {
   "cell_type": "markdown",
   "id": "4bbe41a6",
   "metadata": {},
   "source": [
    "### 4.2.1 Пример\n",
    "\n",
    "#### Задача: \n",
    "\n",
    "Рассчитать синус от е радиан и вывести результат на экран\n",
    "\n",
    "#### Решение:"
   ]
  },
  {
   "cell_type": "code",
   "execution_count": 36,
   "id": "48958bfd",
   "metadata": {},
   "outputs": [
    {
     "name": "stdout",
     "output_type": "stream",
     "text": [
      "0.41078129050290885\n"
     ]
    }
   ],
   "source": [
    "print(m.sin(m.e))"
   ]
  },
  {
   "cell_type": "markdown",
   "id": "8da898bf",
   "metadata": {},
   "source": [
    "### 4.2.2 Пример\n",
    "\n",
    "#### Задача: \n",
    "\n",
    "Для функции $ \\sin(xe^{\\cos(x)}) $ на интервале $ [0; 10] $ с шагом 0,05 построить график функции, закрасить площадь под ним и вычислить значение этой площади.\n",
    "Для вычисления площади воспользуйте функции `trapz()`, вычисляющей интеграл по правилу трапеции. Для ее корректной работы необходимо подключить следующие библиотеки:\n",
    "\n",
    "    from scipy.integrate import simps \n",
    "    from numpy import trapz\n",
    "\n",
    "#### Решение:"
   ]
  },
  {
   "cell_type": "code",
   "execution_count": 39,
   "id": "f89b3051",
   "metadata": {
    "scrolled": false
   },
   "outputs": [
    {
     "name": "stdout",
     "output_type": "stream",
     "text": [
      "73.50792907748662\n"
     ]
    },
    {
     "data": {
      "image/png": "[encoded data removed]",
      "text/plain": [
       "<Figure size 640x480 with 1 Axes>"
      ]
     },
     "metadata": {},
     "output_type": "display_data"
    }
   ],
   "source": [
    "x = np.arange(0, 10, .1)\n",
    "y = np.abs(np.sin(x * np.exp(np.cos(x))))\n",
    "area = np.trapz(y)\n",
    "\n",
    "plt.grid()\n",
    "plt.plot(x, y, c='r')\n",
    "plt.fill_between(x, y)\n",
    "\n",
    "print(area)"
   ]
  },
  {
   "cell_type": "markdown",
   "id": "a638a7d8",
   "metadata": {},
   "source": [
    "### 4.2.3 Пример\n",
    "\n",
    "#### Задача: \n",
    "\n",
    "Дано некоторое распределение оценок в группе за экзамен. Нарисовать\n",
    "круговую и точечную диаграммы распределения.\n",
    "\n",
    "#### Решение:"
   ]
  },
  {
   "cell_type": "code",
   "execution_count": 41,
   "id": "184f75ab",
   "metadata": {
    "scrolled": true
   },
   "outputs": [
    {
     "data": {
      "image/png": "[encoded data removed]",
      "text/plain": [
       "<Figure size 1000x700 with 1 Axes>"
      ]
     },
     "metadata": {},
     "output_type": "display_data"
    },
    {
     "data": {
      "text/plain": [
       "<matplotlib.collections.PathCollection at 0x136ba5490>"
      ]
     },
     "execution_count": 41,
     "metadata": {},
     "output_type": "execute_result"
    },
    {
     "data": {
      "image/png": "[encoded data removed]",
      "text/plain": [
       "<Figure size 640x480 with 1 Axes>"
      ]
     },
     "metadata": {},
     "output_type": "display_data"
    }
   ],
   "source": [
    "marks = ['Неуд', 'Удовл', 'Хор', 'Отл']\n",
    "\n",
    "data = [3, 7, 8, 4]\n",
    "\n",
    "fig = plt.figure(figsize=(10, 7))\n",
    "plt.pie(data, labels=marks)\n",
    "plt.show()\n",
    "plt.grid()\n",
    "plt.scatter(marks, data)"
   ]
  },
  {
   "cell_type": "markdown",
   "id": "30c0d47e",
   "metadata": {},
   "source": [
    "### 4.3.1 Задание\n",
    "\n",
    "#### Задача: \n",
    "\n",
    "Задайте массив случайных значений из интервала(0; 1).\n",
    "Рассчитайте средние и медианные значения для массива, сравните результаты, какие выводы можно сделать о значениях?\n",
    "Постройте точечную диаграмму рассения полученного ряда.\n",
    "\n",
    "#### Решение:"
   ]
  },
  {
   "cell_type": "code",
   "execution_count": 43,
   "id": "37141b12",
   "metadata": {},
   "outputs": [
    {
     "name": "stdout",
     "output_type": "stream",
     "text": [
      "[0.5854453  0.70690725 0.79595052 0.07102209 0.28748039 0.73688366\n",
      " 0.82909491 0.18695218 0.7620667  0.72062637]\n",
      "Среднее: 0.5682429369839178\n",
      "Медиана: 0.7137668124642134\n"
     ]
    }
   ],
   "source": [
    "x = np.random.random(10)\n",
    "print(x)\n",
    "print(f\"Среднее: {np.mean(x)}\")\n",
    "print(f\"Медиана: {np.median(x)}\")"
   ]
  },
  {
   "cell_type": "markdown",
   "id": "56888186",
   "metadata": {},
   "source": [
    "### 4.3.2 Задание\n",
    "\n",
    "#### Задача: \n",
    "\n",
    "Дана функция $ \\frac{\\sqrt{1 + e^{\\sqrt{x}} + \\cos{x^2}}}{|{1 - \\sin^3{x}}|} + \\ln{|2x|} $ Создать массив из 10 значений\n",
    "функции (x, например, изменяется от 1 до 10). Выделить срез первой половины массива и построить графики для основного массива – линейный и для среза – точечный\n",
    "\n",
    "#### Решение:"
   ]
  },
  {
   "cell_type": "code",
   "execution_count": 62,
   "id": "3c206069",
   "metadata": {},
   "outputs": [
    {
     "data": {
      "image/png": "[encoded data removed]",
      "text/plain": [
       "<Figure size 1000x500 with 1 Axes>"
      ]
     },
     "metadata": {},
     "output_type": "display_data"
    },
    {
     "data": {
      "text/plain": [
       "<matplotlib.collections.PathCollection at 0x16203f790>"
      ]
     },
     "execution_count": 62,
     "metadata": {},
     "output_type": "execute_result"
    },
    {
     "data": {
      "image/png": "[encoded data removed]",
      "text/plain": [
       "<Figure size 640x480 with 1 Axes>"
      ]
     },
     "metadata": {},
     "output_type": "display_data"
    }
   ],
   "source": [
    "x = np.arange(1, 11, .1)\n",
    "y = np.sqrt(1 + np.exp(np.sqrt(x)) + np.cos(x ** 2)) / np.abs(1 - np.sin(x) ** 3) + np.log(np.abs(2 * x))\n",
    "\n",
    "half = len(x) // 2\n",
    "\n",
    "fig = plt.figure(figsize=(10, 5))\n",
    "plt.plot(x[:half], y[:half])\n",
    "plt.show()\n",
    "plt.scatter(x[half:], y[half:])"
   ]
  },
  {
   "cell_type": "markdown",
   "id": "cc416fe9",
   "metadata": {},
   "source": [
    "### 4.3.3 Задание\n",
    "\n",
    "#### Задача: \n",
    "\n",
    "Дана функция $ |cos(xe^{(\\cos(x)+ln(x+1))})| $.\n",
    "\n",
    "Построить график на интервале (0,10) с шагом 1 с заливкой площади и найти площадь под ним. Для вычисления площади воспользуйте функции `trapz()`, вычисляющей интеграл по правилу трапеции.\n",
    "Для ее корректной работы необходимо подключить следующие библиотеки:\n",
    "\n",
    "    from scipy.integrate import simps \n",
    "    from numpy import trapz\n",
    "\n",
    "#### Решение:"
   ]
  },
  {
   "cell_type": "code",
   "execution_count": 63,
   "id": "1985d966",
   "metadata": {
    "scrolled": true
   },
   "outputs": [
    {
     "name": "stdout",
     "output_type": "stream",
     "text": [
      "371.16103067500717\n"
     ]
    },
    {
     "data": {
      "image/png": "[encoded data removed]",
      "text/plain": [
       "<Figure size 640x480 with 1 Axes>"
      ]
     },
     "metadata": {},
     "output_type": "display_data"
    }
   ],
   "source": [
    "x = np.arange(0, 10, 1)\n",
    "y = np.abs(x * np.exp(np.cos(x) + np.log(x + 1)))\n",
    "\n",
    "plt.plot(y, c='r')\n",
    "plt.fill_between(x, y)\n",
    "print(np.trapz(y))"
   ]
  },
  {
   "cell_type": "markdown",
   "id": "f39a2cf1",
   "metadata": {},
   "source": [
    "### 4.3.5 Задание\n",
    "\n",
    "#### Задача: \n",
    "\n",
    "Создайте простейший калькулятор, включающий основные действия для двух переменных '$ + $', '$ - $', '$ \\cdotp $', '$ \\div $', а также вычисление следующих функций: $ e^{x+y} $, $ \\sin(x+y) $, $ \\cos(x+y) $, $ x^y $\n",
    "\n",
    "#### Решение:"
   ]
  },
  {
   "cell_type": "code",
   "execution_count": 60,
   "id": "4b40fd10",
   "metadata": {},
   "outputs": [
    {
     "name": "stdout",
     "output_type": "stream",
     "text": [
      "Введите номер операции: \n",
      "1. +\n",
      "2. -\n",
      "3. /\n",
      "4. *\n",
      "5. e^(x + y)\n",
      "6. sin(x + y)\n",
      "7. x^y\n",
      "1\n",
      "5\n",
      "7\n",
      "12\n"
     ]
    }
   ],
   "source": [
    "def calc():\n",
    "    op = (\n",
    "        ('+', lambda x, y: x + y),\n",
    "        ('-', lambda x, y: x - y),\n",
    "        ('/', lambda x, y: x / y),\n",
    "        ('*', lambda x, y: x * y),\n",
    "        ('e^(x + y)', lambda x, y: m.e ** (x + y)),\n",
    "        ('sin(x + y)', lambda x, y: m.cos(x + y)),\n",
    "        ('x^y', lambda x, y: x ** y),\n",
    "    )\n",
    "\n",
    "    print(\"Введите номер операции: \")\n",
    "    for i, o in enumerate(op, 1):\n",
    "        print(f\"{i}. {o[0]}\")\n",
    "\n",
    "    n = int(input())\n",
    "\n",
    "    if n > len(op) or n < 1:\n",
    "        print('неверный номер операции')\n",
    "        return\n",
    "    \n",
    "    x, y = int(input()), int(input())\n",
    "    \n",
    "    print(op[n - 1][1](x, y))\n",
    "    \n",
    "calc()"
   ]
  }
 ],
 "metadata": {
  "kernelspec": {
   "display_name": "Python 3 (ipykernel)",
   "language": "python",
   "name": "python3"
  },
  "language_info": {
   "codemirror_mode": {
    "name": "ipython",
    "version": 3
   },
   "file_extension": ".py",
   "mimetype": "text/x-python",
   "name": "python",
   "nbconvert_exporter": "python",
   "pygments_lexer": "ipython3",
   "version": "3.11.0"
  }
 },
 "nbformat": 4,
 "nbformat_minor": 5
}
