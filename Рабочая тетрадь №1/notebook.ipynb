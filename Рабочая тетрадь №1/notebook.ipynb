{
 "cells": [
  {
   "cell_type": "code",
   "execution_count": 79,
   "id": "da6eaa01",
   "metadata": {},
   "outputs": [],
   "source": [
    "import numpy as np\n",
    "import matplotlib.pyplot as plt\n",
    "import random\n",
    "import pandas as pd\n",
    "import math as m\n",
    "import datetime as dt\n",
    "from datetime import date"
   ]
  },
  {
   "cell_type": "markdown",
   "id": "4207d359",
   "metadata": {},
   "source": [
    "**Типы данных**\n",
    "\n",
    "Все типы данных в Python относятся к одной из 2-х категорий: изменяемые (mutable) и неизменяемые (immutable).\n",
    "\n",
    "Неизменяемые объекты:\n",
    "- числовые данные (int, float),\n",
    "- bool,\n",
    "- None,\n",
    "- символьные строки (class 'str'),\n",
    "- кортежи (tuple).\n",
    "\n",
    "Изменяемые объекты:\n",
    "- списки (list),\n",
    "- множества (set),\n",
    "- словари (dict)."
   ]
  },
  {
   "cell_type": "markdown",
   "id": "56213597",
   "metadata": {},
   "source": [
    "**1.2 Пример** Выведите на печать и определите тип переменной."
   ]
  },
  {
   "cell_type": "code",
   "execution_count": 113,
   "id": "fe9c667c",
   "metadata": {},
   "outputs": [],
   "source": [
    "x = 3 + 5.2 * 7\n",
    "y = None\n",
    "z = 'a', 5, 12.345, (2, 'b')\n",
    "df = [['Антонова Антонина', 34, 'ж'], ['Борисов Борис', 26, 'м']]\n",
    "A = {1, 'title', 'content'}"
   ]
  },
  {
   "cell_type": "markdown",
   "id": "2148d188",
   "metadata": {},
   "source": [
    "**Решение**"
   ]
  },
  {
   "cell_type": "code",
   "execution_count": 114,
   "id": "27cc1e0a",
   "metadata": {},
   "outputs": [
    {
     "name": "stdout",
     "output_type": "stream",
     "text": [
      "True | <class 'bool'>\n",
      "None | <class 'NoneType'>\n",
      "('a', 5, 12.345, (2, 'b')) | <class 'tuple'>\n",
      "[['Антонова Антонина', 34, 'ж'], ['Борисов Борис', 26, 'м']] | <class 'list'>\n",
      "{1, 'content', 'title'} | <class 'set'>\n"
     ]
    }
   ],
   "source": [
    "print(*map(lambda x: f\"{x} | {type(x)}\", [X, y, z, df, A]), sep='\\n')"
   ]
  },
  {
   "cell_type": "markdown",
   "id": "63b90e07",
   "metadata": {},
   "source": [
    "**1.3. Задача** Выведите на печать и определите тип переменной."
   ]
  },
  {
   "cell_type": "code",
   "execution_count": 115,
   "id": "27a39468",
   "metadata": {},
   "outputs": [],
   "source": [
    "X = 5 >= 2\n",
    "A = {1, 3, 7, 8}\n",
    "B = {2, 4, 5, 10, 'apple'}\n",
    "C = A & B\n",
    "df = 'Антонова Антонина', 34, 'ж'\n",
    "z = 'type'"
   ]
  },
  {
   "cell_type": "markdown",
   "id": "f7231c42",
   "metadata": {},
   "source": [
    "**Решение**"
   ]
  },
  {
   "cell_type": "code",
   "execution_count": 116,
   "id": "90641ccc",
   "metadata": {},
   "outputs": [
    {
     "name": "stdout",
     "output_type": "stream",
     "text": [
      "True | <class 'bool'>\n",
      "None | <class 'NoneType'>\n",
      "type | <class 'str'>\n",
      "('Антонова Антонина', 34, 'ж') | <class 'tuple'>\n",
      "{8, 1, 3, 7} | <class 'set'>\n"
     ]
    }
   ],
   "source": [
    "print(*map(lambda x: f\"{x} | {type(x)}\", [X, y, z, df, A]), sep='\\n')"
   ]
  },
  {
   "cell_type": "markdown",
   "id": "117ef93e",
   "metadata": {},
   "source": [
    "**If – Условный оператор**\n",
    "\n",
    "В коде часто приходится проверять выполнимость или невыполнимость каких-то условий. Синтаксис:\n",
    "\n",
    "if <условие1 (булевское выражение)> :\n",
    "\n",
    "<код, который выполнится, если условие верно> elif <условие2 (булевское выражение)>:\n",
    "\n",
    "<код, который выполнится, если условие1 было неверно, а условие2 верно>\n",
    "\n",
    "else:\n",
    "\n",
    "<код, который выполнится, если условие1 и условие2 были неверны>\n",
    "\n",
    "Обратите внимание, что код, который должен выполняться внутри каждого условия, записывается с отступом в 4 пробела от уровня if, elif и else: в питоне области видимости переменных обозначаются отступами.\n",
    "\n",
    "**_То есть, отступы позволяют понять, где начинается код, который должен выполняться при выполнении условия в if, и где заканчивается._**"
   ]
  },
  {
   "cell_type": "markdown",
   "id": "af39c1bd",
   "metadata": {},
   "source": [
    "**2.2 Пример**"
   ]
  },
  {
   "cell_type": "markdown",
   "id": "10e0b4c8",
   "metadata": {},
   "source": [
    "**Задача:** Вывести на экран является ли переменная х положительной, отрицательной или равна нулю."
   ]
  },
  {
   "cell_type": "markdown",
   "id": "f5a345aa",
   "metadata": {},
   "source": [
    "**Решение:**"
   ]
  },
  {
   "cell_type": "code",
   "execution_count": 122,
   "id": "bb6d67b4",
   "metadata": {},
   "outputs": [
    {
     "name": "stdout",
     "output_type": "stream",
     "text": [
      "x положительный\n"
     ]
    }
   ],
   "source": [
    "x = 125\n",
    "if x < 0:\n",
    "    print(\"x отрицательный\")\n",
    "elif x == 0:\n",
    "    print(\"x равен нулю\")\n",
    "else:\n",
    "    print(\"x положительный\")"
   ]
  },
  {
   "cell_type": "markdown",
   "id": "8596ba70",
   "metadata": {},
   "source": [
    "**Задча:** Напишите код. Задается х, напечатать какому из интервалов\n",
    "принадлежит: (-infinity, -5), \\[-5, 5\\] или от (5, +infinity)"
   ]
  },
  {
   "cell_type": "code",
   "execution_count": 7,
   "id": "e8c6a06b",
   "metadata": {},
   "outputs": [
    {
     "name": "stdout",
     "output_type": "stream",
     "text": [
      "5\n",
      "[-5, 5]\n"
     ]
    }
   ],
   "source": [
    "x = int(input())\n",
    "if x < -5:\n",
    "    print(\"(-inf, -5)\")\n",
    "elif x <= 5:\n",
    "    print(\"[-5, 5]\")\n",
    "else:\n",
    "    print(\"(5, inf)\")"
   ]
  },
  {
   "cell_type": "markdown",
   "id": "8bae50e7",
   "metadata": {},
   "source": [
    "**3.1. Теоретический материал – Циклы, массивы, срезы**\n",
    "\n",
    "Циклы - for и while\n",
    "\n",
    "Цикл while проверяет истинность условия, и если условие истинно, то выполняет инструкции цикла.\n",
    "    \n",
    "Синтаксис: \n",
    "\n",
    "    while условие: \n",
    "        инструкции\n",
    "\n",
    "Инструкции, которые относятся к циклу while, располагаются на последующих строках и должны иметь отступ от начала ключевого слова while.\n",
    "\n",
    "Цикл for проходит по набору значений, помещает каждое значение в переменную с которой в цикле можно производить различные действия.\n",
    "\n",
    "Синтаксис:\n",
    "\n",
    "    for переменная in набор_значений:\n",
    "        инструкции\n",
    "\n",
    "После ключевого слова **for** идет название переменной, в которую\n",
    "будут помещаться значения. После оператора in указывается набор значений и двоеточие. Инструкции, которые относятся к циклу, располагаются на последующих строках и должны иметь отступ.\n",
    "При создании цикла удобно пользоваться функцией **range(a, b)**, которая создает последовательность чисел от **a** до **b-1**."
   ]
  },
  {
   "cell_type": "markdown",
   "id": "edf97ade",
   "metadata": {},
   "source": [
    "**Задача:** Вывести все числа от 1 до 10 с шагом 3."
   ]
  },
  {
   "cell_type": "markdown",
   "id": "e4a63b46",
   "metadata": {},
   "source": [
    "**Решение:**"
   ]
  },
  {
   "cell_type": "code",
   "execution_count": 123,
   "id": "54d81424",
   "metadata": {},
   "outputs": [
    {
     "name": "stdout",
     "output_type": "stream",
     "text": [
      "1\n",
      "4\n",
      "7\n",
      "10\n"
     ]
    }
   ],
   "source": [
    "x = 1\n",
    "while x <= 10:\n",
    "    print(x)\n",
    "    x += 3"
   ]
  },
  {
   "cell_type": "markdown",
   "id": "d0e9f04b",
   "metadata": {},
   "source": [
    "**3.2.2 Пример**\n",
    "\n",
    "**Задача:** Задан список. Напечатать все элементы списка.\n",
    "\n",
    "**Решение:**"
   ]
  },
  {
   "cell_type": "code",
   "execution_count": 124,
   "id": "c8185101",
   "metadata": {},
   "outputs": [
    {
     "name": "stdout",
     "output_type": "stream",
     "text": [
      "KNN\n",
      "decision tree\n",
      "linear model\n"
     ]
    }
   ],
   "source": [
    "models = ['KNN', 'decision tree', 'linear model']\n",
    "for model in models:\n",
    "    print(model)"
   ]
  },
  {
   "cell_type": "markdown",
   "id": "db18c3e5",
   "metadata": {},
   "source": [
    "**3.2.3 Пример**\n",
    "\n",
    "**Задача:** Создать список от 1 до 99 с шагом 7.\n",
    "\n",
    "**Решение:**"
   ]
  },
  {
   "cell_type": "code",
   "execution_count": 125,
   "id": "b0d319c2",
   "metadata": {},
   "outputs": [
    {
     "data": {
      "text/plain": [
       "[10, 7, 4, 1]"
      ]
     },
     "execution_count": 125,
     "metadata": {},
     "output_type": "execute_result"
    }
   ],
   "source": [
    "x = [1, 4, 7, 10]\n",
    "x[::-1]"
   ]
  },
  {
   "cell_type": "code",
   "execution_count": 9,
   "id": "1219928b",
   "metadata": {},
   "outputs": [],
   "source": [
    "humans = [\n",
    "    [192, 90, 'male', 'blue'],\n",
    "    [160, 60, 'female', 'green'],\n",
    "    [170, 70, 'male', 'black'],\n",
    "]"
   ]
  },
  {
   "cell_type": "code",
   "execution_count": 10,
   "id": "d35c18fc",
   "metadata": {},
   "outputs": [
    {
     "data": {
      "text/plain": [
       "[2, 3, 4, 5, 6, 7, 8, 9, 10, 11, 12, 13, 14]"
      ]
     },
     "execution_count": 10,
     "metadata": {},
     "output_type": "execute_result"
    }
   ],
   "source": [
    "x = [i for i in range(2, 15)]\n",
    "x"
   ]
  },
  {
   "cell_type": "code",
   "execution_count": 11,
   "id": "532230e0",
   "metadata": {},
   "outputs": [
    {
     "name": "stdout",
     "output_type": "stream",
     "text": [
      "105\n",
      "80\n",
      "55\n",
      "30\n",
      "5\n"
     ]
    }
   ],
   "source": [
    "for i in range(105, 4, -25):\n",
    "    print(i)"
   ]
  },
  {
   "cell_type": "code",
   "execution_count": 121,
   "id": "f0e7c91e",
   "metadata": {},
   "outputs": [
    {
     "data": {
      "text/plain": [
       "[8, 1, 6, 3, 4, 5, 2, 7, 0, 9]"
      ]
     },
     "execution_count": 121,
     "metadata": {},
     "output_type": "execute_result"
    }
   ],
   "source": [
    "x = list(range(10))\n",
    "y = []\n",
    "\n",
    "x[::2] = x[-2::-2]\n",
    "x"
   ]
  },
  {
   "cell_type": "code",
   "execution_count": 39,
   "id": "37141b12",
   "metadata": {},
   "outputs": [
    {
     "data": {
      "text/plain": [
       "(array([0.22997399, 0.47675671, 0.10847729, 0.69049223, 0.30071743,\n",
       "        0.84070186, 0.2980346 , 0.77142332, 0.40362914, 0.13861801]),\n",
       " 0.4258824571633217,\n",
       " 0.35217328509886714)"
      ]
     },
     "execution_count": 39,
     "metadata": {},
     "output_type": "execute_result"
    }
   ],
   "source": [
    "x = np.array([random.random() for _ in range(10)])\n",
    "x, np.mean(x), np.median(x)"
   ]
  },
  {
   "cell_type": "code",
   "execution_count": 104,
   "id": "3c206069",
   "metadata": {},
   "outputs": [],
   "source": [
    "f = lambda x: \\\n",
    "    m.sqrt(1 + m.e ** m.sqrt(x) + m.cos(x ** 2)) / abs(a - m.sin(x) ** 3) + m.log(abs(2 * x), m.e)\n",
    "\n",
    "data = list(map(f, range(1, 11)))"
   ]
  },
  {
   "cell_type": "code",
   "execution_count": 105,
   "id": "5862e6ab",
   "metadata": {},
   "outputs": [
    {
     "data": {
      "text/plain": [
       "[<matplotlib.lines.Line2D at 0x17e9a0a90>]"
      ]
     },
     "execution_count": 105,
     "metadata": {},
     "output_type": "execute_result"
    },
    {
     "data": {
      "image/png": "[encoded data removed]",
      "text/plain": [
       "<Figure size 640x480 with 1 Axes>"
      ]
     },
     "metadata": {},
     "output_type": "display_data"
    }
   ],
   "source": [
    "plt.plot(data[:5])"
   ]
  },
  {
   "cell_type": "code",
   "execution_count": 106,
   "id": "a594bfbc",
   "metadata": {},
   "outputs": [
    {
     "data": {
      "text/plain": [
       "<matplotlib.collections.PathCollection at 0x17dfe5990>"
      ]
     },
     "execution_count": 106,
     "metadata": {},
     "output_type": "execute_result"
    },
    {
     "data": {
      "image/png": "[encoded data removed]",
      "text/plain": [
       "<Figure size 640x480 with 1 Axes>"
      ]
     },
     "metadata": {},
     "output_type": "display_data"
    }
   ],
   "source": [
    "plt.scatter(range(5), data[5:])"
   ]
  },
  {
   "cell_type": "code",
   "execution_count": 52,
   "id": "1985d966",
   "metadata": {},
   "outputs": [
    {
     "name": "stdout",
     "output_type": "stream",
     "text": [
      "36.5\n"
     ]
    },
    {
     "data": {
      "image/png": "[encoded data removed]",
      "text/plain": [
       "<Figure size 640x480 with 1 Axes>"
      ]
     },
     "metadata": {},
     "output_type": "display_data"
    }
   ],
   "source": [
    "ln = lambda x: m.log(x, m.e)\n",
    "f = lambda x: abs(m.cos(x * m.e ** (m.cos(m.e) + m.log(m.e))))\n",
    "data = list(map(f, range(11)))\n",
    "\n",
    "plt.plot(data, c='r')\n",
    "plt.fill_between(range(11), data)\n",
    "print(np.trapz(y))"
   ]
  },
  {
   "cell_type": "code",
   "execution_count": 91,
   "id": "161273e6",
   "metadata": {},
   "outputs": [
    {
     "data": {
      "text/plain": [
       "0      1\n",
       "1      2\n",
       "2      3\n",
       "3      4\n",
       "4      5\n",
       "5      6\n",
       "6      7\n",
       "7      8\n",
       "8      9\n",
       "9     10\n",
       "10    11\n",
       "11    12\n",
       "Name: Date, dtype: int64"
      ]
     },
     "execution_count": 91,
     "metadata": {},
     "output_type": "execute_result"
    }
   ],
   "source": [
    "# Считывание данных по акциям\n",
    "google = pd.read_csv('google.csv')\n",
    "microsoft = pd.read_csv('microsoft.csv')\n",
    "apple = pd.read_csv('apple.csv')\n",
    "\n",
    "# Парсинг Даты\n",
    "google.Date = google.Date.apply(lambda x: dt.strptime(x, '%Y-%m-%d').month)\n",
    "apple.Date = apple.Date.apply(lambda x: dt.strptime(x, '%Y-%m-%d').month)\n",
    "microsoft.Date = microsoft.Date.apply(lambda x: dt.strptime(x, '%Y-%m-%d').month)\n",
    "\n",
    "\n",
    "# Добавление среднего значения\n",
    "google['Mean'] = (google.High + google.Low) / 2\n",
    "apple['Mean'] = (apple.High + apple.Low) / 2\n",
    "microsoft['Mean'] = (microsoft.High + microsoft.Low) / 2"
   ]
  },
  {
   "cell_type": "code",
   "execution_count": 100,
   "id": "57fccfb0",
   "metadata": {},
   "outputs": [
    {
     "data": {
      "text/plain": [
       "<matplotlib.legend.Legend at 0x283252790>"
      ]
     },
     "execution_count": 100,
     "metadata": {},
     "output_type": "execute_result"
    },
    {
     "data": {
      "image/png": "[encoded data removed]",
      "text/plain": [
       "<Figure size 640x480 with 1 Axes>"
      ]
     },
     "metadata": {},
     "output_type": "display_data"
    }
   ],
   "source": [
    "fig = plt.figure()\n",
    "ax = fig.add_subplot(111)\n",
    "\n",
    "ax.plot(google.Date, google.Mean, label='Google')\n",
    "ax.plot(microsoft.Date, microsoft.Mean, label='Microsoft')\n",
    "ax.plot(apple.Date, apple.Mean, label='Apple')\n",
    "\n",
    "ax.legend(loc=2)"
   ]
  },
  {
   "cell_type": "code",
   "execution_count": 60,
   "id": "4b40fd10",
   "metadata": {},
   "outputs": [
    {
     "name": "stdout",
     "output_type": "stream",
     "text": [
      "Введите номер операции: \n",
      "1. +\n",
      "2. -\n",
      "3. /\n",
      "4. *\n",
      "5. e^(x + y)\n",
      "6. sin(x + y)\n",
      "7. x^y\n",
      "1\n",
      "5\n",
      "7\n",
      "12\n"
     ]
    }
   ],
   "source": [
    "def calc():\n",
    "    op = (\n",
    "        ('+', lambda x, y: x + y),\n",
    "        ('-', lambda x, y: x - y),\n",
    "        ('/', lambda x, y: x / y),\n",
    "        ('*', lambda x, y: x * y),\n",
    "        ('e^(x + y)', lambda x, y: m.e ** (x + y)),\n",
    "        ('sin(x + y)', lambda x, y: m.cos(x + y)),\n",
    "        ('x^y', lambda x, y: x ** y),\n",
    "    )\n",
    "\n",
    "    print(\"Введите номер операции: \")\n",
    "    for i, o in enumerate(op, 1):\n",
    "        print(f\"{i}. {o[0]}\")\n",
    "\n",
    "    n = int(input())\n",
    "\n",
    "    if n > len(op) or n < 1:\n",
    "        print('неверный номер операции')\n",
    "        return\n",
    "    \n",
    "    x, y = int(input()), int(input())\n",
    "    \n",
    "    print(op[n - 1][1](x, y))\n",
    "    \n",
    "calc()"
   ]
  }
 ],
 "metadata": {
  "kernelspec": {
   "display_name": "Python 3 (ipykernel)",
   "language": "python",
   "name": "python3"
  },
  "language_info": {
   "codemirror_mode": {
    "name": "ipython",
    "version": 3
   },
   "file_extension": ".py",
   "mimetype": "text/x-python",
   "name": "python",
   "nbconvert_exporter": "python",
   "pygments_lexer": "ipython3",
   "version": "3.11.0"
  }
 },
 "nbformat": 4,
 "nbformat_minor": 5
}
